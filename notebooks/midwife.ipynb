{
 "cells": [
  {
   "cell_type": "markdown",
   "metadata": {},
   "source": [
    "# Setup"
   ]
  },
  {
   "cell_type": "code",
   "execution_count": null,
   "metadata": {},
   "outputs": [],
   "source": [
    "!pwd\n",
    "!wget https://raw.githubusercontent.com/github/gitignore/master/Python.gitignore -O ../templates/python.gitignore\n",
    "!cp ../templates/python.gitignore ../.gitignore"
   ]
  },
  {
   "cell_type": "code",
   "execution_count": null,
   "metadata": {},
   "outputs": [],
   "source": [
    "!ls -a .."
   ]
  },
  {
   "cell_type": "code",
   "execution_count": 1,
   "metadata": {},
   "outputs": [],
   "source": [
    "%load_ext watermark\n",
    "%load_ext autoreload\n",
    "%autoreload 2"
   ]
  },
  {
   "cell_type": "code",
   "execution_count": 36,
   "metadata": {},
   "outputs": [
    {
     "name": "stdout",
     "output_type": "stream",
     "text": [
      "Adriano Henrique Rossette Leite 2019-05-01 23:09:01 \n",
      "\n",
      "CPython 3.6.8\n",
      "IPython 7.1.1\n",
      "\n",
      "json 2.0.9\n",
      "midwife 0.2.13\n"
     ]
    }
   ],
   "source": [
    "import os\n",
    "import json\n",
    "import shutil\n",
    "from datetime import datetime as dt\n",
    "from midwife import Project\n",
    "\n",
    "%watermark -d -t -v -a \"Adriano Henrique Rossette Leite\" -p json,midwife"
   ]
  },
  {
   "cell_type": "code",
   "execution_count": 3,
   "metadata": {},
   "outputs": [],
   "source": [
    "params = {\n",
    "    'directories': [\n",
    "        '{root}/',\n",
    "        '{root}/annotations/images/',\n",
    "        '{root}/annotations/presentations/',\n",
    "        '{root}/annotations/references/',\n",
    "        '{root}/data/external/',\n",
    "        '{root}/data/interim/',\n",
    "        '{root}/data/processed/',\n",
    "        '{root}/data/raw/',\n",
    "        '{root}/docs/',\n",
    "        '{root}/models/',\n",
    "        '{root}/notebooks/',\n",
    "        '{root}/{name}/',\n",
    "        '{root}/{name}/data/',\n",
    "        '{root}/{name}/features/',\n",
    "        '{root}/{name}/models/',\n",
    "        '{root}/{name}/eval/',\n",
    "    ],\n",
    "    'templates': {\n",
    "        'gitignore': '{prefix}/python.gitignore.template',\n",
    "        'makefile': '{prefix}/Makefile.template',\n",
    "        'setup': '{prefix}/setup.py.template',\n",
    "        'readme': '{prefix}/README.md.template',\n",
    "        'init': '{prefix}/__init__.py.template',\n",
    "        'others': [\n",
    "            '{prefix}/data/make_dataset.py.template',\n",
    "            '{prefix}/features/build_features.py.template',\n",
    "            '{prefix}/models/predict_model.py.template',\n",
    "            '{prefix}/models/train_model.py.template',\n",
    "            '{prefix}/eval/visualize.py.template',\n",
    "        ],\n",
    "    },\n",
    "    'files': {\n",
    "        'gitignore': '{root}/.gitignore',\n",
    "        'requirements': '{root}/requirements.txt',\n",
    "        'makefile': '{root}/Makefile',\n",
    "        'setup': '{root}/setup.py',\n",
    "        'readme': '{root}/README.md',\n",
    "        'init': '{root}/{name}/__init__.py',\n",
    "        'others': [\n",
    "            '{root}/{name}/data/make_dataset.py',\n",
    "            '{root}/{name}/features/build_features.py',\n",
    "            '{root}/{name}/models/predict_model.py',\n",
    "            '{root}/{name}/models/train_model.py',\n",
    "            '{root}/{name}/eval/visualize.py',\n",
    "        ],\n",
    "    },\n",
    "    'gitignores': [\n",
    "        'annotations/',\n",
    "        'models/',\n",
    "        'data/',\n",
    "    ],\n",
    "    'gitlab': {\n",
    "        'url': 'https://gitlab.com',\n",
    "        'namespace': 'adrianohrl',\n",
    "    },\n",
    "}\n",
    "filename = '../midwife/templates/params.json'\n",
    "with open(filename, 'w') as f:\n",
    "    json.dump(params, f)"
   ]
  },
  {
   "cell_type": "code",
   "execution_count": 4,
   "metadata": {},
   "outputs": [
    {
     "ename": "NameError",
     "evalue": "name 'parts' is not defined",
     "output_type": "error",
     "traceback": [
      "\u001b[0;31m---------------------------------------------------------------------------\u001b[0m",
      "\u001b[0;31mNameError\u001b[0m                                 Traceback (most recent call last)",
      "\u001b[0;32m<ipython-input-4-b4bcef074493>\u001b[0m in \u001b[0;36m<module>\u001b[0;34m\u001b[0m\n\u001b[1;32m     12\u001b[0m     \u001b[0mstack\u001b[0m \u001b[0;34m=\u001b[0m \u001b[0mnode\u001b[0m\u001b[0;34m.\u001b[0m\u001b[0msplit\u001b[0m\u001b[0;34m(\u001b[0m\u001b[0;34m'/'\u001b[0m\u001b[0;34m)\u001b[0m\u001b[0;34m\u001b[0m\u001b[0;34m\u001b[0m\u001b[0m\n\u001b[1;32m     13\u001b[0m \u001b[0;34m\u001b[0m\u001b[0m\n\u001b[0;32m---> 14\u001b[0;31m     \u001b[0;32mif\u001b[0m \u001b[0mparts\u001b[0m\u001b[0;34m[\u001b[0m\u001b[0;34m-\u001b[0m\u001b[0;36m1\u001b[0m\u001b[0;34m]\u001b[0m \u001b[0;34m==\u001b[0m \u001b[0;34m''\u001b[0m\u001b[0;34m:\u001b[0m\u001b[0;34m\u001b[0m\u001b[0;34m\u001b[0m\u001b[0m\n\u001b[0m\u001b[1;32m     15\u001b[0m         \u001b[0mparts\u001b[0m\u001b[0;34m.\u001b[0m\u001b[0mpop\u001b[0m\u001b[0;34m(\u001b[0m\u001b[0;34m)\u001b[0m\u001b[0;34m\u001b[0m\u001b[0;34m\u001b[0m\u001b[0m\n\u001b[1;32m     16\u001b[0m     \u001b[0mprint\u001b[0m\u001b[0;34m(\u001b[0m\u001b[0;34m'{}{}'\u001b[0m\u001b[0;34m.\u001b[0m\u001b[0mformat\u001b[0m\u001b[0;34m(\u001b[0m\u001b[0;34m'    '\u001b[0m \u001b[0;34m*\u001b[0m \u001b[0;34m(\u001b[0m\u001b[0mlen\u001b[0m\u001b[0;34m(\u001b[0m\u001b[0mparts\u001b[0m\u001b[0;34m)\u001b[0m \u001b[0;34m-\u001b[0m \u001b[0;36m1\u001b[0m\u001b[0;34m)\u001b[0m\u001b[0;34m,\u001b[0m \u001b[0mparts\u001b[0m\u001b[0;34m[\u001b[0m\u001b[0;34m-\u001b[0m\u001b[0;36m1\u001b[0m\u001b[0;34m]\u001b[0m\u001b[0;34m)\u001b[0m\u001b[0;34m)\u001b[0m\u001b[0;34m\u001b[0m\u001b[0;34m\u001b[0m\u001b[0m\n",
      "\u001b[0;31mNameError\u001b[0m: name 'parts' is not defined"
     ]
    }
   ],
   "source": [
    "tree = []\n",
    "tree.extend(params['directories'])\n",
    "for value in params['files'].values():\n",
    "    if type(value) == str:\n",
    "        tree.append(value)\n",
    "    else:\n",
    "        tree.extend(value)\n",
    "tree.sort()\n",
    "stack = []\n",
    "for node in tree:\n",
    "    \n",
    "    stack = node.split('/')\n",
    "    \n",
    "    if parts[-1] == '':\n",
    "        parts.pop()\n",
    "    print('{}{}'.format('    ' * (len(parts) - 1), parts[-1]))\n",
    "    # pilha"
   ]
  },
  {
   "cell_type": "markdown",
   "metadata": {},
   "source": [
    "# An example project generation"
   ]
  },
  {
   "cell_type": "code",
   "execution_count": 6,
   "metadata": {},
   "outputs": [
    {
     "name": "stdout",
     "output_type": "stream",
     "text": [
      "Removed the /home/adrianohrl/Projects/Python/example directory.\n",
      "Created the /home/adrianohrl/Projects/Python/example/ directory.\n",
      "Created the /home/adrianohrl/Projects/Python/example/annotations/images/ directory.\n",
      "Created the /home/adrianohrl/Projects/Python/example/annotations/presentations/ directory.\n",
      "Created the /home/adrianohrl/Projects/Python/example/annotations/references/ directory.\n",
      "Created the /home/adrianohrl/Projects/Python/example/data/external/ directory.\n",
      "Created the /home/adrianohrl/Projects/Python/example/data/interim/ directory.\n",
      "Created the /home/adrianohrl/Projects/Python/example/data/processed/ directory.\n",
      "Created the /home/adrianohrl/Projects/Python/example/data/raw/ directory.\n",
      "Created the /home/adrianohrl/Projects/Python/example/docs/ directory.\n",
      "Created the /home/adrianohrl/Projects/Python/example/models/ directory.\n",
      "Created the /home/adrianohrl/Projects/Python/example/notebooks/ directory.\n",
      "Created the /home/adrianohrl/Projects/Python/example/example/ directory.\n",
      "Created the /home/adrianohrl/Projects/Python/example/example/data/ directory.\n",
      "Created the /home/adrianohrl/Projects/Python/example/example/features/ directory.\n",
      "Created the /home/adrianohrl/Projects/Python/example/example/models/ directory.\n",
      "Created the /home/adrianohrl/Projects/Python/example/example/eval/ directory.\n",
      "Created the /home/adrianohrl/Projects/Python/example/setup.py file.\n",
      "Created the /home/adrianohrl/Projects/Python/example/example/__init__.py file.\n",
      "Created the /home/adrianohrl/Projects/Python/example/requirements.txt file.\n",
      "Created the /home/adrianohrl/Projects/Python/example/README.md file.\n",
      "Created the /home/adrianohrl/Projects/Python/example/.gitignore file.\n",
      "Created the /home/adrianohrl/Projects/Python/example/Makefile file.\n",
      "Created the /home/adrianohrl/Projects/Python/example/example/data/make_dataset.py file.\n",
      "Created the /home/adrianohrl/Projects/Python/example/example/features/build_features.py file.\n",
      "Created the /home/adrianohrl/Projects/Python/example/example/models/predict_model.py file.\n",
      "Created the /home/adrianohrl/Projects/Python/example/example/models/train_model.py file.\n",
      "Created the /home/adrianohrl/Projects/Python/example/example/eval/visualize.py file.\n",
      "Created the example project structure at /home/adrianohrl/Projects/Python, successfully!\n"
     ]
    }
   ],
   "source": [
    "from midwife import Project\n",
    "info = {\n",
    "    'path': '../..',\n",
    "    'name': 'example',\n",
    "    'authors': [{\n",
    "            'name': 'Adriano Henrique Rossette Leite',\n",
    "            'email': 'contact@adrianohrl.tech',\n",
    "            'username': 'adrianohrl',\n",
    "        }, {\n",
    "            'name': 'Henrique Rossette Leite',\n",
    "            'email': 'me@adrianohrl.tech',\n",
    "            'username': 'henriquerl',\n",
    "        },\n",
    "    ],\n",
    "    'description': 'This is an example.',\n",
    "    'license': 'BSD',\n",
    "    'keywords': [\n",
    "        'project',\n",
    "        'generator',\n",
    "        'example',\n",
    "    ],\n",
    "    'requirements': [\n",
    "        'pandas >= 0.23.4',\n",
    "        'numpy >= 1.16.1 ',\n",
    "    ],\n",
    "}\n",
    "root = os.path.abspath(os.path.join(info['path'], info['name']))\n",
    "if os.path.exists(root):\n",
    "    shutil.rmtree(root)\n",
    "    print('Removed the {} directory.'.format(root))\n",
    "project = Project(**info)\n",
    "project.generate()"
   ]
  },
  {
   "cell_type": "markdown",
   "metadata": {},
   "source": [
    "# Automating the project structure generation\n",
    "\n",
    "The fields are:\n",
    "- path\n",
    "- name\n",
    "- authors\n",
    "  - name\n",
    "  - email\n",
    "  - racf\n",
    "- description\n",
    "- license\n",
    "- keywords\n",
    "- requirements\n",
    "- diretoria\n",
    "- superintendencia\n",
    "- gerencia"
   ]
  },
  {
   "cell_type": "code",
   "execution_count": 9,
   "metadata": {},
   "outputs": [],
   "source": [
    "form_en = {\n",
    "    'menu': '''\n",
    "        Welcome to the midwife tool!!!\n",
    "        You will be asked some questions in order to automaticly generate your project.\n",
    "        So let\\'s get started ...\n",
    "    ''',\n",
    "    'fields': [{\n",
    "        'key': 'path',\n",
    "        'label': 'in which path would you like to generate the project',        \n",
    "        'default': '.',\n",
    "    }, {\n",
    "        'key': 'name',\n",
    "        'label': 'what is the project name',\n",
    "    }, {\n",
    "        'key': 'authors',\n",
    "        'label': '',\n",
    "        'note': 'considering that the author #1 of this project is you ...',        \n",
    "        'multiple': True,\n",
    "        'fields': [{\n",
    "            'key': 'name',\n",
    "            'label': 'what is the name of the author #{}',\n",
    "        }, {\n",
    "            'key': 'email',\n",
    "            'label': 'what is the e-mail of the author #{}',\n",
    "        }, {\n",
    "            'key': 'username',\n",
    "            'label': 'what is the username of the author #{}',\n",
    "            'default': '',\n",
    "        }], \n",
    "    }, {\n",
    "        'key': 'description',\n",
    "        'label': 'in few words, how would you describe this project',\n",
    "        'default': '',\n",
    "    }, {\n",
    "        'key': 'license',\n",
    "        'label': 'does the source code of this project have any license',        \n",
    "        'default': 'BSD',\n",
    "    }, {\n",
    "        'key': 'keywords',\n",
    "        'label': 'which keyworks summarize this project',\n",
    "        'default': [],\n",
    "        'multiple': True,\n",
    "    }, {\n",
    "        'key': 'requirements',\n",
    "        'note': 'according to the requirements file format (https://pip.readthedocs.io/en/1.1/requirements.html) ...',\n",
    "        'label': 'what are the requirements of this project',\n",
    "        'default': [],\n",
    "        'multiple': True,\n",
    "    }],\n",
    "    'escape': {\n",
    "        'message': 'double press the enter key for skipping this question',\n",
    "        'key': '',\n",
    "    },\n",
    "    'confirmation': {\n",
    "        'message': 'would you like to generate a data science project according to the given information',\n",
    "        'yes': 'y',\n",
    "        'no': 'n',\n",
    "    },\n",
    "}\n",
    "filename = '../midwife/templates/form.en.json'\n",
    "with open(filename, 'w') as f:\n",
    "    json.dump(form_en, f)\n",
    "form_pt = {\n",
    "    'menu': '''\n",
    "        Seja bem-vindo à ferramenta project_generator!!!\n",
    "        Você será perguntado sobre informações pertinentes para a criação automática do seu projeto de Ciência de Dados.\n",
    "        Vamos começar então ...\n",
    "    ''',\n",
    "    'fields': [{\n",
    "        'key': 'path',\n",
    "        'label': '',\n",
    "        'default': '.',\n",
    "    }, {\n",
    "        'key': 'name',\n",
    "        'label': '',    \n",
    "    }, {\n",
    "        'key': 'author',\n",
    "        'label': '',\n",
    "        'multiple': True,\n",
    "        'fields': [{\n",
    "            'key': 'name',\n",
    "            'label': '',\n",
    "        }, {\n",
    "            'key': 'email',\n",
    "            'label': '',\n",
    "        }, {\n",
    "            'key': 'username',\n",
    "            'label': '',\n",
    "            'default': '',\n",
    "        }], \n",
    "    }, {\n",
    "        'key': 'description',\n",
    "        'label': '',\n",
    "        'default': '',\n",
    "    }, {\n",
    "        'key': 'license',\n",
    "        'label': '',\n",
    "        'default': 'BSD',\n",
    "    }, {\n",
    "        'key': 'keywords',\n",
    "        'label': '',\n",
    "        'default': [],\n",
    "        'multiple': True,\n",
    "    }, {\n",
    "        'key': 'requirements',\n",
    "        'label': '',\n",
    "        'default': [],\n",
    "        'multiple': True,\n",
    "    }, {\n",
    "        'key': 'diretoria',\n",
    "        'label': '',\n",
    "        'default': '<_DIRETORIA_>',\n",
    "    }, {\n",
    "        'key': 'superintendencia',\n",
    "        'label': '',\n",
    "        'default': '<_SUPERINTENDÊNCIA_>',\n",
    "    }, {\n",
    "        'key': 'gerencia',\n",
    "        'label': '',\n",
    "        'default': '<_GERÊNCIA_>',\n",
    "    }],\n",
    "    'escape': {\n",
    "        'message': '',\n",
    "        'key': '',\n",
    "    },\n",
    "    'confirmation': {\n",
    "        'message': '',\n",
    "        'yes': 's',\n",
    "        'no': 'n',\n",
    "    },\n",
    "}\n",
    "filename = '../midwife/templates/form.pt.json'\n",
    "with open(filename, 'w') as f:\n",
    "    json.dump(form_pt, f)"
   ]
  },
  {
   "cell_type": "code",
   "execution_count": 28,
   "metadata": {},
   "outputs": [],
   "source": [
    "def ask(label, default, escape = False):\n",
    "    if label == '':\n",
    "        return None\n",
    "    label += '?'\n",
    "    if default is not None:\n",
    "        label = '{} ({})'.format(label, 'default: \\'{}\\''.format(default))\n",
    "        answer = input(label)\n",
    "        return answer if answer != '' else default\n",
    "    answer = input(label)    \n",
    "    if answer == '' and escape:        \n",
    "        return None\n",
    "    while answer == '':\n",
    "        answer = input(label)\n",
    "    return answer\n",
    "\n",
    "class Field(object):\n",
    "    \n",
    "    def __init__(self, **field):\n",
    "        self.key = field['key']\n",
    "        self.label = field['label'].capitalize()\n",
    "        self.default = field['default'] if 'default' in field else None\n",
    "        self.note = field['note'].capitalize() if 'note' in field else ''\n",
    "        self.multiple = field['multiple'] if 'multiple' in field else False\n",
    "        self.fields = field['fields'] if 'fields' in field else []\n",
    "        self.fields = [Field(**f) for f in self.fields]\n",
    "        \n",
    "    def ask(self, i = -1):\n",
    "        if self.note != '':\n",
    "            print(self.note)\n",
    "        if not self.multiple:\n",
    "            return self.key, ask(self.label.format(i) if i != -1 else self.label, self.default, i > 1)\n",
    "        answers = []\n",
    "        while True:\n",
    "            i = len(answers)\n",
    "            if len(self.fields) == 0:\n",
    "                answer = ask('{} #{}'.format(self.key, i + 1), None, True) # how about when it can be empty (default)?\n",
    "                if answer is None:\n",
    "                    return self.key, answers\n",
    "                answers.append(answer)\n",
    "            else:\n",
    "                answers.append({})\n",
    "                for field in self.fields:\n",
    "                    key, answer = field.ask(i + 1) # how about when it can be empty (default)?\n",
    "                    print('final answer: \\'{}\\''.format(answer))\n",
    "                    if answer is None:\n",
    "                        answers.pop()\n",
    "                        return self.key, answers\n",
    "                    answers[i][key] = answer          \n",
    "                    \n",
    "class Form(object):\n",
    "    def __init__(self, path, language = 'en'):\n",
    "        self.path = path\n",
    "        self.language = language\n",
    "        self.form_filename = '../midwife/templates/form.{}.json'.format(language)\n",
    "        self.fields = []\n",
    "        with open(self.form_filename, 'r') as f:    \n",
    "            self.form = json.loads(f.read())\n",
    "            self.fields = [Field(**field) for field in self.form['fields']]\n",
    "        self.info_filename = os.path.join(path, '.midwife_form_info.json')\n",
    "        self.info = {}\n",
    "        \n",
    "    def ask(self):\n",
    "        print(self.form['menu'])\n",
    "        self.info = {}\n",
    "        if os.path.exists(self.info_filename):\n",
    "            with open(self.info_filename, 'r') as f:\n",
    "                self.info = json.loads(f.read())\n",
    "                print('There is an existing filled form:')\n",
    "                print([print('\\t{}: {}'.format(key, value)) for key, value in self.info.items()])\n",
    "                answer = input('Would like to continue from this point? [Y/n]')\n",
    "                if not answer.lower().startswith('y'):\n",
    "                    self.info = {}\n",
    "        for field in self.fields:\n",
    "            if field.key not in self.info:\n",
    "                key, answer = field.ask()\n",
    "                self.info[key] = answer\n",
    "                with open(self.info_filename, 'w') as f:\n",
    "                    json.dump(self.info, f)\n",
    "        \n",
    "    def generate(self):\n",
    "        project = Project(**self.info)\n",
    "        print('The following project structure will be generated:')\n",
    "        print(project)\n",
    "        yes, no = 'y', 'n'\n",
    "        yes = input('Do you want to continue? [{}/{}]'.format(yes, no)).lower() == yes\n",
    "        if not yes:\n",
    "            print('Aborted.')\n",
    "            return\n",
    "        project.generate()\n",
    "        os.remove(self.info_filename)\n",
    "        yes, no = 'y', 'n'\n",
    "        yes = input('Do you want to initialize git in this project? [{}/{}]'.format(yes, no)) == yes\n",
    "        if not yes:\n",
    "            print('Aborted.')\n",
    "            return\n",
    "        git_init(project.root, **info)"
   ]
  },
  {
   "cell_type": "code",
   "execution_count": 18,
   "metadata": {},
   "outputs": [
    {
     "name": "stdout",
     "output_type": "stream",
     "text": [
      "\n",
      "        Welcome to the project_generator tool!!!\n",
      "        You will be asked some question in order to automaticly create it for you.\n",
      "        So let's get started ...\n",
      "    \n",
      "non empty label\n",
      "In which path would you like to generate the project?\n",
      "not required\n"
     ]
    },
    {
     "name": "stdin",
     "output_type": "stream",
     "text": [
      "In which path would you like to generate the project? (default: '.') \n"
     ]
    },
    {
     "name": "stdout",
     "output_type": "stream",
     "text": [
      "len(answer): 0\n",
      "default\n",
      "non empty label\n",
      "What is the project name?\n",
      "required\n"
     ]
    },
    {
     "ename": "KeyboardInterrupt",
     "evalue": "",
     "output_type": "error",
     "traceback": [
      "\u001b[0;31m---------------------------------------------------------------------------\u001b[0m",
      "\u001b[0;31mKeyboardInterrupt\u001b[0m                         Traceback (most recent call last)",
      "\u001b[0;32m/usr/local/anaconda3/lib/python3.6/site-packages/ipykernel/kernelbase.py\u001b[0m in \u001b[0;36m_input_request\u001b[0;34m(self, prompt, ident, parent, password)\u001b[0m\n\u001b[1;32m    877\u001b[0m             \u001b[0;32mtry\u001b[0m\u001b[0;34m:\u001b[0m\u001b[0;34m\u001b[0m\u001b[0;34m\u001b[0m\u001b[0m\n\u001b[0;32m--> 878\u001b[0;31m                 \u001b[0mident\u001b[0m\u001b[0;34m,\u001b[0m \u001b[0mreply\u001b[0m \u001b[0;34m=\u001b[0m \u001b[0mself\u001b[0m\u001b[0;34m.\u001b[0m\u001b[0msession\u001b[0m\u001b[0;34m.\u001b[0m\u001b[0mrecv\u001b[0m\u001b[0;34m(\u001b[0m\u001b[0mself\u001b[0m\u001b[0;34m.\u001b[0m\u001b[0mstdin_socket\u001b[0m\u001b[0;34m,\u001b[0m \u001b[0;36m0\u001b[0m\u001b[0;34m)\u001b[0m\u001b[0;34m\u001b[0m\u001b[0;34m\u001b[0m\u001b[0m\n\u001b[0m\u001b[1;32m    879\u001b[0m             \u001b[0;32mexcept\u001b[0m \u001b[0mException\u001b[0m\u001b[0;34m:\u001b[0m\u001b[0;34m\u001b[0m\u001b[0;34m\u001b[0m\u001b[0m\n",
      "\u001b[0;32m/usr/local/anaconda3/lib/python3.6/site-packages/jupyter_client/session.py\u001b[0m in \u001b[0;36mrecv\u001b[0;34m(self, socket, mode, content, copy)\u001b[0m\n\u001b[1;32m    802\u001b[0m         \u001b[0;32mtry\u001b[0m\u001b[0;34m:\u001b[0m\u001b[0;34m\u001b[0m\u001b[0;34m\u001b[0m\u001b[0m\n\u001b[0;32m--> 803\u001b[0;31m             \u001b[0mmsg_list\u001b[0m \u001b[0;34m=\u001b[0m \u001b[0msocket\u001b[0m\u001b[0;34m.\u001b[0m\u001b[0mrecv_multipart\u001b[0m\u001b[0;34m(\u001b[0m\u001b[0mmode\u001b[0m\u001b[0;34m,\u001b[0m \u001b[0mcopy\u001b[0m\u001b[0;34m=\u001b[0m\u001b[0mcopy\u001b[0m\u001b[0;34m)\u001b[0m\u001b[0;34m\u001b[0m\u001b[0;34m\u001b[0m\u001b[0m\n\u001b[0m\u001b[1;32m    804\u001b[0m         \u001b[0;32mexcept\u001b[0m \u001b[0mzmq\u001b[0m\u001b[0;34m.\u001b[0m\u001b[0mZMQError\u001b[0m \u001b[0;32mas\u001b[0m \u001b[0me\u001b[0m\u001b[0;34m:\u001b[0m\u001b[0;34m\u001b[0m\u001b[0;34m\u001b[0m\u001b[0m\n",
      "\u001b[0;32m/usr/local/anaconda3/lib/python3.6/site-packages/zmq/sugar/socket.py\u001b[0m in \u001b[0;36mrecv_multipart\u001b[0;34m(self, flags, copy, track)\u001b[0m\n\u001b[1;32m    466\u001b[0m         \"\"\"\n\u001b[0;32m--> 467\u001b[0;31m         \u001b[0mparts\u001b[0m \u001b[0;34m=\u001b[0m \u001b[0;34m[\u001b[0m\u001b[0mself\u001b[0m\u001b[0;34m.\u001b[0m\u001b[0mrecv\u001b[0m\u001b[0;34m(\u001b[0m\u001b[0mflags\u001b[0m\u001b[0;34m,\u001b[0m \u001b[0mcopy\u001b[0m\u001b[0;34m=\u001b[0m\u001b[0mcopy\u001b[0m\u001b[0;34m,\u001b[0m \u001b[0mtrack\u001b[0m\u001b[0;34m=\u001b[0m\u001b[0mtrack\u001b[0m\u001b[0;34m)\u001b[0m\u001b[0;34m]\u001b[0m\u001b[0;34m\u001b[0m\u001b[0;34m\u001b[0m\u001b[0m\n\u001b[0m\u001b[1;32m    468\u001b[0m         \u001b[0;31m# have first part already, only loop while more to receive\u001b[0m\u001b[0;34m\u001b[0m\u001b[0;34m\u001b[0m\u001b[0;34m\u001b[0m\u001b[0m\n",
      "\u001b[0;32mzmq/backend/cython/socket.pyx\u001b[0m in \u001b[0;36mzmq.backend.cython.socket.Socket.recv\u001b[0;34m()\u001b[0m\n",
      "\u001b[0;32mzmq/backend/cython/socket.pyx\u001b[0m in \u001b[0;36mzmq.backend.cython.socket.Socket.recv\u001b[0;34m()\u001b[0m\n",
      "\u001b[0;32mzmq/backend/cython/socket.pyx\u001b[0m in \u001b[0;36mzmq.backend.cython.socket._recv_copy\u001b[0;34m()\u001b[0m\n",
      "\u001b[0;32m/usr/local/anaconda3/lib/python3.6/site-packages/zmq/backend/cython/checkrc.pxd\u001b[0m in \u001b[0;36mzmq.backend.cython.checkrc._check_rc\u001b[0;34m()\u001b[0m\n",
      "\u001b[0;31mKeyboardInterrupt\u001b[0m: ",
      "\nDuring handling of the above exception, another exception occurred:\n",
      "\u001b[0;31mKeyboardInterrupt\u001b[0m                         Traceback (most recent call last)",
      "\u001b[0;32m<ipython-input-18-6775b314a8f0>\u001b[0m in \u001b[0;36m<module>\u001b[0;34m\u001b[0m\n\u001b[1;32m      8\u001b[0m \u001b[0mprint\u001b[0m\u001b[0;34m(\u001b[0m\u001b[0mform\u001b[0m\u001b[0;34m[\u001b[0m\u001b[0;34m'menu'\u001b[0m\u001b[0;34m]\u001b[0m\u001b[0;34m)\u001b[0m\u001b[0;34m\u001b[0m\u001b[0;34m\u001b[0m\u001b[0m\n\u001b[1;32m      9\u001b[0m \u001b[0;32mfor\u001b[0m \u001b[0mfield\u001b[0m \u001b[0;32min\u001b[0m \u001b[0mfields\u001b[0m\u001b[0;34m:\u001b[0m\u001b[0;34m\u001b[0m\u001b[0;34m\u001b[0m\u001b[0m\n\u001b[0;32m---> 10\u001b[0;31m     \u001b[0mkey\u001b[0m\u001b[0;34m,\u001b[0m \u001b[0manswer\u001b[0m \u001b[0;34m=\u001b[0m \u001b[0mfield\u001b[0m\u001b[0;34m.\u001b[0m\u001b[0mask\u001b[0m\u001b[0;34m(\u001b[0m\u001b[0;34m)\u001b[0m\u001b[0;34m\u001b[0m\u001b[0;34m\u001b[0m\u001b[0m\n\u001b[0m\u001b[1;32m     11\u001b[0m     \u001b[0minfo\u001b[0m\u001b[0;34m[\u001b[0m\u001b[0mkey\u001b[0m\u001b[0;34m]\u001b[0m \u001b[0;34m=\u001b[0m \u001b[0manswer\u001b[0m\u001b[0;34m\u001b[0m\u001b[0;34m\u001b[0m\u001b[0m\n\u001b[1;32m     12\u001b[0m \u001b[0mprint\u001b[0m\u001b[0;34m(\u001b[0m\u001b[0;34m'Done!!'\u001b[0m\u001b[0;34m)\u001b[0m\u001b[0;34m\u001b[0m\u001b[0;34m\u001b[0m\u001b[0m\n",
      "\u001b[0;32m<ipython-input-17-dc488341fe50>\u001b[0m in \u001b[0;36mask\u001b[0;34m(self, i)\u001b[0m\n\u001b[1;32m     45\u001b[0m             \u001b[0mprint\u001b[0m\u001b[0;34m(\u001b[0m\u001b[0mself\u001b[0m\u001b[0;34m.\u001b[0m\u001b[0mnote\u001b[0m\u001b[0;34m)\u001b[0m\u001b[0;34m\u001b[0m\u001b[0;34m\u001b[0m\u001b[0m\n\u001b[1;32m     46\u001b[0m         \u001b[0;32mif\u001b[0m \u001b[0;32mnot\u001b[0m \u001b[0mself\u001b[0m\u001b[0;34m.\u001b[0m\u001b[0mmultiple\u001b[0m\u001b[0;34m:\u001b[0m\u001b[0;34m\u001b[0m\u001b[0;34m\u001b[0m\u001b[0m\n\u001b[0;32m---> 47\u001b[0;31m             \u001b[0;32mreturn\u001b[0m \u001b[0mself\u001b[0m\u001b[0;34m.\u001b[0m\u001b[0mkey\u001b[0m\u001b[0;34m,\u001b[0m \u001b[0mask\u001b[0m\u001b[0;34m(\u001b[0m\u001b[0mself\u001b[0m\u001b[0;34m.\u001b[0m\u001b[0mlabel\u001b[0m\u001b[0;34m.\u001b[0m\u001b[0mformat\u001b[0m\u001b[0;34m(\u001b[0m\u001b[0mi\u001b[0m\u001b[0;34m)\u001b[0m \u001b[0;32mif\u001b[0m \u001b[0mi\u001b[0m \u001b[0;34m!=\u001b[0m \u001b[0;34m-\u001b[0m\u001b[0;36m1\u001b[0m \u001b[0;32melse\u001b[0m \u001b[0mself\u001b[0m\u001b[0;34m.\u001b[0m\u001b[0mlabel\u001b[0m\u001b[0;34m,\u001b[0m \u001b[0mself\u001b[0m\u001b[0;34m.\u001b[0m\u001b[0mdefault\u001b[0m\u001b[0;34m,\u001b[0m \u001b[0mi\u001b[0m \u001b[0;34m>\u001b[0m \u001b[0;36m1\u001b[0m\u001b[0;34m)\u001b[0m\u001b[0;34m\u001b[0m\u001b[0;34m\u001b[0m\u001b[0m\n\u001b[0m\u001b[1;32m     48\u001b[0m         \u001b[0manswers\u001b[0m \u001b[0;34m=\u001b[0m \u001b[0;34m[\u001b[0m\u001b[0;34m]\u001b[0m\u001b[0;34m\u001b[0m\u001b[0;34m\u001b[0m\u001b[0m\n\u001b[1;32m     49\u001b[0m         \u001b[0;32mwhile\u001b[0m \u001b[0;32mTrue\u001b[0m\u001b[0;34m:\u001b[0m\u001b[0;34m\u001b[0m\u001b[0;34m\u001b[0m\u001b[0m\n",
      "\u001b[0;32m<ipython-input-17-dc488341fe50>\u001b[0m in \u001b[0;36mask\u001b[0;34m(label, default, escape)\u001b[0m\n\u001b[1;32m     19\u001b[0m         \u001b[0;32mreturn\u001b[0m \u001b[0manswer\u001b[0m \u001b[0;32mif\u001b[0m \u001b[0manswer\u001b[0m \u001b[0;34m!=\u001b[0m \u001b[0;34m''\u001b[0m \u001b[0;32melse\u001b[0m \u001b[0mdefault\u001b[0m\u001b[0;34m\u001b[0m\u001b[0;34m\u001b[0m\u001b[0m\n\u001b[1;32m     20\u001b[0m     \u001b[0mprint\u001b[0m\u001b[0;34m(\u001b[0m\u001b[0;34m'required'\u001b[0m\u001b[0;34m)\u001b[0m\u001b[0;34m\u001b[0m\u001b[0;34m\u001b[0m\u001b[0m\n\u001b[0;32m---> 21\u001b[0;31m     \u001b[0manswer\u001b[0m \u001b[0;34m=\u001b[0m \u001b[0minput\u001b[0m\u001b[0;34m(\u001b[0m\u001b[0mlabel\u001b[0m\u001b[0;34m)\u001b[0m\u001b[0;34m\u001b[0m\u001b[0;34m\u001b[0m\u001b[0m\n\u001b[0m\u001b[1;32m     22\u001b[0m     \u001b[0mprint\u001b[0m\u001b[0;34m(\u001b[0m\u001b[0;34m'answer: \\'{}\\', escape: {}'\u001b[0m\u001b[0;34m.\u001b[0m\u001b[0mformat\u001b[0m\u001b[0;34m(\u001b[0m\u001b[0manswer\u001b[0m\u001b[0;34m,\u001b[0m \u001b[0mescape\u001b[0m\u001b[0;34m)\u001b[0m\u001b[0;34m)\u001b[0m\u001b[0;34m\u001b[0m\u001b[0;34m\u001b[0m\u001b[0m\n\u001b[1;32m     23\u001b[0m     \u001b[0;32mif\u001b[0m \u001b[0manswer\u001b[0m \u001b[0;34m==\u001b[0m \u001b[0;34m''\u001b[0m \u001b[0;32mand\u001b[0m \u001b[0mescape\u001b[0m\u001b[0;34m:\u001b[0m\u001b[0;34m\u001b[0m\u001b[0;34m\u001b[0m\u001b[0m\n",
      "\u001b[0;32m/usr/local/anaconda3/lib/python3.6/site-packages/ipykernel/kernelbase.py\u001b[0m in \u001b[0;36mraw_input\u001b[0;34m(self, prompt)\u001b[0m\n\u001b[1;32m    851\u001b[0m             \u001b[0mself\u001b[0m\u001b[0;34m.\u001b[0m\u001b[0m_parent_ident\u001b[0m\u001b[0;34m,\u001b[0m\u001b[0;34m\u001b[0m\u001b[0;34m\u001b[0m\u001b[0m\n\u001b[1;32m    852\u001b[0m             \u001b[0mself\u001b[0m\u001b[0;34m.\u001b[0m\u001b[0m_parent_header\u001b[0m\u001b[0;34m,\u001b[0m\u001b[0;34m\u001b[0m\u001b[0;34m\u001b[0m\u001b[0m\n\u001b[0;32m--> 853\u001b[0;31m             \u001b[0mpassword\u001b[0m\u001b[0;34m=\u001b[0m\u001b[0;32mFalse\u001b[0m\u001b[0;34m,\u001b[0m\u001b[0;34m\u001b[0m\u001b[0;34m\u001b[0m\u001b[0m\n\u001b[0m\u001b[1;32m    854\u001b[0m         )\n\u001b[1;32m    855\u001b[0m \u001b[0;34m\u001b[0m\u001b[0m\n",
      "\u001b[0;32m/usr/local/anaconda3/lib/python3.6/site-packages/ipykernel/kernelbase.py\u001b[0m in \u001b[0;36m_input_request\u001b[0;34m(self, prompt, ident, parent, password)\u001b[0m\n\u001b[1;32m    881\u001b[0m             \u001b[0;32mexcept\u001b[0m \u001b[0mKeyboardInterrupt\u001b[0m\u001b[0;34m:\u001b[0m\u001b[0;34m\u001b[0m\u001b[0;34m\u001b[0m\u001b[0m\n\u001b[1;32m    882\u001b[0m                 \u001b[0;31m# re-raise KeyboardInterrupt, to truncate traceback\u001b[0m\u001b[0;34m\u001b[0m\u001b[0;34m\u001b[0m\u001b[0;34m\u001b[0m\u001b[0m\n\u001b[0;32m--> 883\u001b[0;31m                 \u001b[0;32mraise\u001b[0m \u001b[0mKeyboardInterrupt\u001b[0m\u001b[0;34m\u001b[0m\u001b[0;34m\u001b[0m\u001b[0m\n\u001b[0m\u001b[1;32m    884\u001b[0m             \u001b[0;32melse\u001b[0m\u001b[0;34m:\u001b[0m\u001b[0;34m\u001b[0m\u001b[0;34m\u001b[0m\u001b[0m\n\u001b[1;32m    885\u001b[0m                 \u001b[0;32mbreak\u001b[0m\u001b[0;34m\u001b[0m\u001b[0;34m\u001b[0m\u001b[0m\n",
      "\u001b[0;31mKeyboardInterrupt\u001b[0m: "
     ]
    }
   ],
   "source": [
    "language = 'en' # pode ser um parametro de execucao \n",
    "path = '~' # pode ser um parametro de execucao\n",
    "form_filename = '../midwife/templates/form.{}.json'.format(language)\n",
    "with open(form_filename, 'r') as f:    \n",
    "    form = json.loads(f.read())\n",
    "info = {}\n",
    "fields = [Field(**field) for field in form['fields']]\n",
    "print(form['menu'])\n",
    "for field in fields:\n",
    "    key, answer = field.ask()\n",
    "    info[key] = answer\n",
    "print('Done!!')\n",
    "input('Are you sure you want')\n",
    "project = Project(**info)\n",
    "project.generate()"
   ]
  },
  {
   "cell_type": "code",
   "execution_count": 31,
   "metadata": {},
   "outputs": [
    {
     "name": "stdout",
     "output_type": "stream",
     "text": [
      "\n",
      "        Welcome to the project_generator tool!!!\n",
      "        You will be asked some question in order to automaticly create it for you.\n",
      "        So let's get started ...\n",
      "    \n",
      "non empty label\n",
      "In which path would you like to generate the project?\n",
      "not required\n"
     ]
    },
    {
     "name": "stdin",
     "output_type": "stream",
     "text": [
      "In which path would you like to generate the project? (default: '.') ..\n"
     ]
    },
    {
     "name": "stdout",
     "output_type": "stream",
     "text": [
      "len(answer): 2\n",
      "answer: '..'\n",
      "non empty label\n",
      "What is the project name?\n",
      "required\n"
     ]
    },
    {
     "name": "stdin",
     "output_type": "stream",
     "text": [
      "What is the project name? test\n"
     ]
    },
    {
     "name": "stdout",
     "output_type": "stream",
     "text": [
      "answer: 'test', escape: False\n",
      "leaving\n",
      "Considering that the author #1 of this project is you ...\n",
      "non empty label\n",
      "What is the name of the author #1?\n",
      "required\n"
     ]
    },
    {
     "name": "stdin",
     "output_type": "stream",
     "text": [
      "What is the name of the author #1? adriano\n"
     ]
    },
    {
     "name": "stdout",
     "output_type": "stream",
     "text": [
      "answer: 'adriano', escape: False\n",
      "leaving\n",
      "final answer: 'adriano'\n",
      "non empty label\n",
      "What is the e-mail of the author #1?\n",
      "required\n"
     ]
    },
    {
     "name": "stdin",
     "output_type": "stream",
     "text": [
      "What is the e-mail of the author #1? adrianohrl@gmail.com\n"
     ]
    },
    {
     "name": "stdout",
     "output_type": "stream",
     "text": [
      "answer: 'adrianohrl@gmail.com', escape: False\n",
      "leaving\n",
      "final answer: 'adrianohrl@gmail.com'\n",
      "non empty label\n",
      "What is the username of the author #1?\n",
      "not required\n"
     ]
    },
    {
     "name": "stdin",
     "output_type": "stream",
     "text": [
      "What is the username of the author #1? (default: '') adrianohrl\n"
     ]
    },
    {
     "name": "stdout",
     "output_type": "stream",
     "text": [
      "len(answer): 10\n",
      "answer: 'adrianohrl'\n",
      "final answer: 'adrianohrl'\n",
      "non empty label\n",
      "What is the name of the author #2?\n",
      "required\n"
     ]
    },
    {
     "name": "stdin",
     "output_type": "stream",
     "text": [
      "What is the name of the author #2? \n"
     ]
    },
    {
     "name": "stdout",
     "output_type": "stream",
     "text": [
      "answer: '', escape: True\n",
      "escaping\n",
      "final answer: 'None'\n",
      "non empty label\n",
      "In few words, how would you describe this project?\n",
      "not required\n"
     ]
    },
    {
     "name": "stdin",
     "output_type": "stream",
     "text": [
      "In few words, how would you describe this project? (default: '') This is an example again\n"
     ]
    },
    {
     "name": "stdout",
     "output_type": "stream",
     "text": [
      "len(answer): 24\n",
      "answer: 'This is an example again'\n",
      "non empty label\n",
      "Does the source code of this project have any license?\n",
      "not required\n"
     ]
    },
    {
     "name": "stdin",
     "output_type": "stream",
     "text": [
      "Does the source code of this project have any license? (default: 'BSD') \n"
     ]
    },
    {
     "name": "stdout",
     "output_type": "stream",
     "text": [
      "len(answer): 0\n",
      "default\n",
      "non empty label\n",
      "keywords #1?\n",
      "required\n"
     ]
    },
    {
     "name": "stdin",
     "output_type": "stream",
     "text": [
      "keywords #1? test\n"
     ]
    },
    {
     "name": "stdout",
     "output_type": "stream",
     "text": [
      "answer: 'test', escape: True\n",
      "leaving\n",
      "non empty label\n",
      "keywords #2?\n",
      "required\n"
     ]
    },
    {
     "name": "stdin",
     "output_type": "stream",
     "text": [
      "keywords #2? testing\n"
     ]
    },
    {
     "name": "stdout",
     "output_type": "stream",
     "text": [
      "answer: 'testing', escape: True\n",
      "leaving\n",
      "non empty label\n",
      "keywords #3?\n",
      "required\n"
     ]
    },
    {
     "name": "stdin",
     "output_type": "stream",
     "text": [
      "keywords #3? generation\n"
     ]
    },
    {
     "name": "stdout",
     "output_type": "stream",
     "text": [
      "answer: 'generation', escape: True\n",
      "leaving\n",
      "non empty label\n",
      "keywords #4?\n",
      "required\n"
     ]
    },
    {
     "name": "stdin",
     "output_type": "stream",
     "text": [
      "keywords #4? project\n"
     ]
    },
    {
     "name": "stdout",
     "output_type": "stream",
     "text": [
      "answer: 'project', escape: True\n",
      "leaving\n",
      "non empty label\n",
      "keywords #5?\n",
      "required\n"
     ]
    },
    {
     "name": "stdin",
     "output_type": "stream",
     "text": [
      "keywords #5? \n"
     ]
    },
    {
     "name": "stdout",
     "output_type": "stream",
     "text": [
      "answer: '', escape: True\n",
      "escaping\n",
      "According to the requirements file format (https://pip.readthedocs.io/en/1.1/requirements.html) ...\n",
      "non empty label\n",
      "requirements #1?\n",
      "required\n"
     ]
    },
    {
     "name": "stdin",
     "output_type": "stream",
     "text": [
      "requirements #1? pandas\n"
     ]
    },
    {
     "name": "stdout",
     "output_type": "stream",
     "text": [
      "answer: 'pandas', escape: True\n",
      "leaving\n",
      "non empty label\n",
      "requirements #2?\n",
      "required\n"
     ]
    },
    {
     "name": "stdin",
     "output_type": "stream",
     "text": [
      "requirements #2? \n"
     ]
    },
    {
     "name": "stdout",
     "output_type": "stream",
     "text": [
      "answer: '', escape: True\n",
      "escaping\n",
      "The following project structure will be generated:\n",
      "\n"
     ]
    },
    {
     "name": "stdin",
     "output_type": "stream",
     "text": [
      "Are you sure you want create it? [Y/n] y\n"
     ]
    },
    {
     "name": "stdout",
     "output_type": "stream",
     "text": [
      "There is already an existing folder named test at /home/adrianohrl/Projects/Python/midwife. It will be renamed to test_bckp_20190501190214.\n",
      "Created the /home/adrianohrl/Projects/Python/midwife/test/ directory.\n",
      "Created the /home/adrianohrl/Projects/Python/midwife/test/annotations/images/ directory.\n",
      "Created the /home/adrianohrl/Projects/Python/midwife/test/annotations/presentations/ directory.\n",
      "Created the /home/adrianohrl/Projects/Python/midwife/test/annotations/references/ directory.\n",
      "Created the /home/adrianohrl/Projects/Python/midwife/test/data/external/ directory.\n",
      "Created the /home/adrianohrl/Projects/Python/midwife/test/data/interim/ directory.\n",
      "Created the /home/adrianohrl/Projects/Python/midwife/test/data/processed/ directory.\n",
      "Created the /home/adrianohrl/Projects/Python/midwife/test/data/raw/ directory.\n",
      "Created the /home/adrianohrl/Projects/Python/midwife/test/docs/ directory.\n",
      "Created the /home/adrianohrl/Projects/Python/midwife/test/models/ directory.\n",
      "Created the /home/adrianohrl/Projects/Python/midwife/test/notebooks/ directory.\n",
      "Created the /home/adrianohrl/Projects/Python/midwife/test/test/ directory.\n",
      "Created the /home/adrianohrl/Projects/Python/midwife/test/test/data/ directory.\n",
      "Created the /home/adrianohrl/Projects/Python/midwife/test/test/features/ directory.\n",
      "Created the /home/adrianohrl/Projects/Python/midwife/test/test/models/ directory.\n",
      "Created the /home/adrianohrl/Projects/Python/midwife/test/test/eval/ directory.\n",
      "Created the /home/adrianohrl/Projects/Python/midwife/test/setup.py file.\n",
      "Created the /home/adrianohrl/Projects/Python/midwife/test/test/__init__.py file.\n",
      "Created the /home/adrianohrl/Projects/Python/midwife/test/requirements.txt file.\n",
      "Created the /home/adrianohrl/Projects/Python/midwife/test/README.md file.\n",
      "Created the /home/adrianohrl/Projects/Python/midwife/test/.gitignore file.\n",
      "Created the /home/adrianohrl/Projects/Python/midwife/test/Makefile file.\n",
      "Created the /home/adrianohrl/Projects/Python/midwife/test/test/data/make_dataset.py file.\n",
      "Created the /home/adrianohrl/Projects/Python/midwife/test/test/features/build_features.py file.\n",
      "Created the /home/adrianohrl/Projects/Python/midwife/test/test/models/predict_model.py file.\n",
      "Created the /home/adrianohrl/Projects/Python/midwife/test/test/models/train_model.py file.\n",
      "Created the /home/adrianohrl/Projects/Python/midwife/test/test/eval/visualize.py file.\n",
      "Created the test project structure at /home/adrianohrl/Projects/Python/midwife, successfully!\n"
     ]
    }
   ],
   "source": [
    "path = '..' # pode ser um parametro de execucao\n",
    "language = 'en' # pode ser um parametro de execucao \n",
    "form = Form(path, language)\n",
    "form.ask()\n",
    "form.generate()"
   ]
  },
  {
   "cell_type": "code",
   "execution_count": 1,
   "metadata": {},
   "outputs": [
    {
     "name": "stdout",
     "output_type": "stream",
     "text": [
      "\n",
      "        Welcome to the project_generator tool!!!\n",
      "        You will be asked some questions in order to automaticly create it for you.\n",
      "        So let's get started ...\n",
      "    \n",
      "There is an existing filled form:\n",
      "\tpath: ..\n",
      "[None]\n"
     ]
    },
    {
     "name": "stdin",
     "output_type": "stream",
     "text": [
      "Would like to continue from this point? [Y/n] y\n",
      "\n",
      "What is the project name?\n",
      "   midwife_example\n"
     ]
    },
    {
     "name": "stdout",
     "output_type": "stream",
     "text": [
      "Considering that the author #1 of this project is you ...\n"
     ]
    },
    {
     "name": "stdin",
     "output_type": "stream",
     "text": [
      "\n",
      "What is the name of the author #1?\n",
      "   Adriano Henrique Rossette Leite\n",
      "\n",
      "What is the e-mail of the author #1?\n",
      "   adrianohrl@gmail.com\n",
      "\n",
      "What is the username of the author #1 (default: '')?\n",
      "   rossadr\n",
      "\n",
      "What is the name of the author #2?\n",
      "   \n",
      "\n",
      "In few words, how would you describe this project (default: '')?\n",
      "   This is an example of mifwife\n",
      "\n",
      "Does the source code of this project have any license (default: 'BSD')?\n",
      "   \n",
      "\n",
      "keywords #1?\n",
      "   test\n",
      "\n",
      "keywords #2?\n",
      "   project\n",
      "\n",
      "keywords #3?\n",
      "   \n"
     ]
    },
    {
     "name": "stdout",
     "output_type": "stream",
     "text": [
      "According to the requirements file format (https://pip.readthedocs.io/en/1.1/requirements.html) ...\n"
     ]
    },
    {
     "name": "stdin",
     "output_type": "stream",
     "text": [
      "\n",
      "requirements #1?\n",
      "   pandas\n",
      "\n",
      "requirements #2?\n",
      "   \n"
     ]
    },
    {
     "name": "stdout",
     "output_type": "stream",
     "text": [
      "The following project structure will be generated:\n",
      "\n"
     ]
    },
    {
     "name": "stdin",
     "output_type": "stream",
     "text": [
      "Do you want to continue? [y/n] y\n"
     ]
    },
    {
     "name": "stdout",
     "output_type": "stream",
     "text": [
      "Created the /home/adrianohrl/Projects/Python/midwife/midwife_example/ directory.\n",
      "Created the /home/adrianohrl/Projects/Python/midwife/midwife_example/annotations/images/ directory.\n",
      "Created the /home/adrianohrl/Projects/Python/midwife/midwife_example/annotations/presentations/ directory.\n",
      "Created the /home/adrianohrl/Projects/Python/midwife/midwife_example/annotations/references/ directory.\n",
      "Created the /home/adrianohrl/Projects/Python/midwife/midwife_example/data/external/ directory.\n",
      "Created the /home/adrianohrl/Projects/Python/midwife/midwife_example/data/interim/ directory.\n",
      "Created the /home/adrianohrl/Projects/Python/midwife/midwife_example/data/processed/ directory.\n",
      "Created the /home/adrianohrl/Projects/Python/midwife/midwife_example/data/raw/ directory.\n",
      "Created the /home/adrianohrl/Projects/Python/midwife/midwife_example/docs/ directory.\n",
      "Created the /home/adrianohrl/Projects/Python/midwife/midwife_example/models/ directory.\n",
      "Created the /home/adrianohrl/Projects/Python/midwife/midwife_example/notebooks/ directory.\n",
      "Created the /home/adrianohrl/Projects/Python/midwife/midwife_example/midwife_example/ directory.\n",
      "Created the /home/adrianohrl/Projects/Python/midwife/midwife_example/midwife_example/data/ directory.\n",
      "Created the /home/adrianohrl/Projects/Python/midwife/midwife_example/midwife_example/features/ directory.\n",
      "Created the /home/adrianohrl/Projects/Python/midwife/midwife_example/midwife_example/models/ directory.\n",
      "Created the /home/adrianohrl/Projects/Python/midwife/midwife_example/midwife_example/eval/ directory.\n",
      "Created the /home/adrianohrl/Projects/Python/midwife/midwife_example/setup.py file.\n",
      "Created the /home/adrianohrl/Projects/Python/midwife/midwife_example/midwife_example/__init__.py file.\n",
      "Created the /home/adrianohrl/Projects/Python/midwife/midwife_example/requirements.txt file.\n",
      "Created the /home/adrianohrl/Projects/Python/midwife/midwife_example/README.md file.\n",
      "Created the /home/adrianohrl/Projects/Python/midwife/midwife_example/.gitignore file.\n",
      "Created the /home/adrianohrl/Projects/Python/midwife/midwife_example/Makefile file.\n",
      "Created the /home/adrianohrl/Projects/Python/midwife/midwife_example/midwife_example/data/make_dataset.py file.\n",
      "Created the /home/adrianohrl/Projects/Python/midwife/midwife_example/midwife_example/features/build_features.py file.\n",
      "Created the /home/adrianohrl/Projects/Python/midwife/midwife_example/midwife_example/models/predict_model.py file.\n",
      "Created the /home/adrianohrl/Projects/Python/midwife/midwife_example/midwife_example/models/train_model.py file.\n",
      "Created the /home/adrianohrl/Projects/Python/midwife/midwife_example/midwife_example/eval/visualize.py file.\n",
      "Created the midwife_example project structure at /home/adrianohrl/Projects/Python/midwife, successfully!\n"
     ]
    },
    {
     "name": "stdin",
     "output_type": "stream",
     "text": [
      "Do you want to initialize git in this project? [y/n] y\n"
     ]
    },
    {
     "ename": "NameError",
     "evalue": "name 'root' is not defined",
     "output_type": "error",
     "traceback": [
      "\u001b[0;31m---------------------------------------------------------------------------\u001b[0m",
      "\u001b[0;31mNameError\u001b[0m                                 Traceback (most recent call last)",
      "\u001b[0;32m~/Projects/Python/midwife/bin/generate.py\u001b[0m in \u001b[0;36m<module>\u001b[0;34m\u001b[0m\n\u001b[1;32m    179\u001b[0m \u001b[0;34m\u001b[0m\u001b[0m\n\u001b[1;32m    180\u001b[0m \u001b[0;32mif\u001b[0m \u001b[0m__name__\u001b[0m \u001b[0;34m==\u001b[0m \u001b[0;34m'__main__'\u001b[0m\u001b[0;34m:\u001b[0m\u001b[0;34m\u001b[0m\u001b[0;34m\u001b[0m\u001b[0m\n\u001b[0;32m--> 181\u001b[0;31m     \u001b[0mmain\u001b[0m\u001b[0;34m(\u001b[0m\u001b[0;34m)\u001b[0m\u001b[0;31m#test()\u001b[0m\u001b[0;34m\u001b[0m\u001b[0;34m\u001b[0m\u001b[0m\n\u001b[0m",
      "\u001b[0;32m~/Projects/Python/midwife/bin/generate.py\u001b[0m in \u001b[0;36mmain\u001b[0;34m()\u001b[0m\n\u001b[1;32m    126\u001b[0m     \u001b[0mproject\u001b[0m \u001b[0;34m=\u001b[0m \u001b[0mmidwife\u001b[0m\u001b[0;34m.\u001b[0m\u001b[0mProject\u001b[0m\u001b[0;34m(\u001b[0m\u001b[0;34m**\u001b[0m\u001b[0minfo\u001b[0m\u001b[0;34m)\u001b[0m\u001b[0;34m\u001b[0m\u001b[0;34m\u001b[0m\u001b[0m\n\u001b[1;32m    127\u001b[0m     \u001b[0mform\u001b[0m\u001b[0;34m.\u001b[0m\u001b[0mgenerate\u001b[0m\u001b[0;34m(\u001b[0m\u001b[0mproject\u001b[0m\u001b[0;34m)\u001b[0m\u001b[0;34m\u001b[0m\u001b[0;34m\u001b[0m\u001b[0m\n\u001b[0;32m--> 128\u001b[0;31m     \u001b[0mform\u001b[0m\u001b[0;34m.\u001b[0m\u001b[0minit\u001b[0m\u001b[0;34m(\u001b[0m\u001b[0mproject\u001b[0m\u001b[0;34m)\u001b[0m\u001b[0;34m\u001b[0m\u001b[0;34m\u001b[0m\u001b[0m\n\u001b[0m\u001b[1;32m    129\u001b[0m \u001b[0;34m\u001b[0m\u001b[0m\n\u001b[1;32m    130\u001b[0m \u001b[0;32mdef\u001b[0m \u001b[0mtest\u001b[0m\u001b[0;34m(\u001b[0m\u001b[0;34m)\u001b[0m\u001b[0;34m:\u001b[0m\u001b[0;34m\u001b[0m\u001b[0;34m\u001b[0m\u001b[0m\n",
      "\u001b[0;32m~/Projects/Python/midwife/bin/generate.py\u001b[0m in \u001b[0;36minit\u001b[0;34m(self, project)\u001b[0m\n\u001b[1;32m    110\u001b[0m             \u001b[0mprint\u001b[0m\u001b[0;34m(\u001b[0m\u001b[0;34m'Aborted.'\u001b[0m\u001b[0;34m)\u001b[0m\u001b[0;34m\u001b[0m\u001b[0;34m\u001b[0m\u001b[0m\n\u001b[1;32m    111\u001b[0m             \u001b[0;32mreturn\u001b[0m\u001b[0;34m\u001b[0m\u001b[0;34m\u001b[0m\u001b[0m\n\u001b[0;32m--> 112\u001b[0;31m         \u001b[0mproject\u001b[0m\u001b[0;34m.\u001b[0m\u001b[0minit\u001b[0m\u001b[0;34m(\u001b[0m\u001b[0;34m)\u001b[0m\u001b[0;34m\u001b[0m\u001b[0;34m\u001b[0m\u001b[0m\n\u001b[0m\u001b[1;32m    113\u001b[0m \u001b[0;34m\u001b[0m\u001b[0m\n\u001b[1;32m    114\u001b[0m \u001b[0;32mdef\u001b[0m \u001b[0mmain\u001b[0m\u001b[0;34m(\u001b[0m\u001b[0;34m)\u001b[0m\u001b[0;34m:\u001b[0m\u001b[0;34m\u001b[0m\u001b[0;34m\u001b[0m\u001b[0m\n",
      "\u001b[0;32m/usr/local/anaconda3/lib/python3.6/site-packages/midwife/midwife.py\u001b[0m in \u001b[0;36minit\u001b[0;34m(self)\u001b[0m\n\u001b[1;32m     59\u001b[0m     \u001b[0;32mdef\u001b[0m \u001b[0minit\u001b[0m\u001b[0;34m(\u001b[0m\u001b[0mself\u001b[0m\u001b[0;34m)\u001b[0m\u001b[0;34m:\u001b[0m\u001b[0;34m\u001b[0m\u001b[0;34m\u001b[0m\u001b[0m\n\u001b[1;32m     60\u001b[0m         \u001b[0mauthor\u001b[0m \u001b[0;34m=\u001b[0m \u001b[0mgit\u001b[0m\u001b[0;34m.\u001b[0m\u001b[0mActor\u001b[0m\u001b[0;34m(\u001b[0m\u001b[0mself\u001b[0m\u001b[0;34m.\u001b[0m\u001b[0mauthors\u001b[0m\u001b[0;34m[\u001b[0m\u001b[0;36m0\u001b[0m\u001b[0;34m]\u001b[0m\u001b[0;34m[\u001b[0m\u001b[0;34m'name'\u001b[0m\u001b[0;34m]\u001b[0m\u001b[0;34m,\u001b[0m \u001b[0mself\u001b[0m\u001b[0;34m.\u001b[0m\u001b[0mauthors\u001b[0m\u001b[0;34m[\u001b[0m\u001b[0;36m0\u001b[0m\u001b[0;34m]\u001b[0m\u001b[0;34m[\u001b[0m\u001b[0;34m'email'\u001b[0m\u001b[0;34m]\u001b[0m\u001b[0;34m)\u001b[0m\u001b[0;34m\u001b[0m\u001b[0;34m\u001b[0m\u001b[0m\n\u001b[0;32m---> 61\u001b[0;31m         \u001b[0mrepo\u001b[0m \u001b[0;34m=\u001b[0m \u001b[0mgit\u001b[0m\u001b[0;34m.\u001b[0m\u001b[0mRepo\u001b[0m\u001b[0;34m.\u001b[0m\u001b[0minit\u001b[0m\u001b[0;34m(\u001b[0m\u001b[0mroot\u001b[0m\u001b[0;34m)\u001b[0m\u001b[0;34m\u001b[0m\u001b[0;34m\u001b[0m\u001b[0m\n\u001b[0m\u001b[1;32m     62\u001b[0m         \u001b[0mrepo\u001b[0m\u001b[0;34m.\u001b[0m\u001b[0mgit\u001b[0m\u001b[0;34m.\u001b[0m\u001b[0madd\u001b[0m\u001b[0;34m(\u001b[0m\u001b[0mA\u001b[0m \u001b[0;34m=\u001b[0m \u001b[0;32mTrue\u001b[0m\u001b[0;34m)\u001b[0m\u001b[0;34m\u001b[0m\u001b[0;34m\u001b[0m\u001b[0m\n\u001b[1;32m     63\u001b[0m         \u001b[0mcommit\u001b[0m \u001b[0;34m=\u001b[0m \u001b[0mrepo\u001b[0m\u001b[0;34m.\u001b[0m\u001b[0mindex\u001b[0m\u001b[0;34m.\u001b[0m\u001b[0mcommit\u001b[0m\u001b[0;34m(\u001b[0m\u001b[0;34m'Created the {} project with the {} tool.'\u001b[0m\u001b[0;34m.\u001b[0m\u001b[0mformat\u001b[0m\u001b[0;34m(\u001b[0m\u001b[0minfo\u001b[0m\u001b[0;34m[\u001b[0m\u001b[0;34m'name'\u001b[0m\u001b[0;34m]\u001b[0m\u001b[0;34m,\u001b[0m \u001b[0;34m'midwife'\u001b[0m\u001b[0;34m)\u001b[0m\u001b[0;34m,\u001b[0m \u001b[0mauthor\u001b[0m \u001b[0;34m=\u001b[0m \u001b[0mauthor\u001b[0m\u001b[0;34m,\u001b[0m \u001b[0mcommitter\u001b[0m \u001b[0;34m=\u001b[0m \u001b[0mauthor\u001b[0m\u001b[0;34m)\u001b[0m\u001b[0;34m\u001b[0m\u001b[0;34m\u001b[0m\u001b[0m\n",
      "\u001b[0;31mNameError\u001b[0m: name 'root' is not defined"
     ]
    }
   ],
   "source": [
    "%run ../bin/generate.py"
   ]
  },
  {
   "cell_type": "code",
   "execution_count": 7,
   "metadata": {},
   "outputs": [
    {
     "name": "stdout",
     "output_type": "stream",
     "text": [
      "usage: midwife [-h] [--en | --pt | -l LANGUAGE] [-p PATH] [-n NAME] [-v | -q]\n",
      "               [-y] [-g] [-r REMOTE] [-c CONFIG]\n",
      "\n",
      "A tool for automaticly generating data science projects based on its metadata.\n",
      "\n",
      "optional arguments:\n",
      "  -h, --help            show this help message and exit\n",
      "  --en                  select the English language\n",
      "  --pt                  select the Portuguese language\n",
      "  -l LANGUAGE, --language LANGUAGE\n",
      "                        select the language (possibilities: en | pt)\n",
      "  -p PATH, --path PATH  path to the project location\n",
      "  -n NAME, --name NAME  specify the name of the project to generated\n",
      "  -v, --verbose         increase output verbosity\n",
      "  -q, --quiet           increase output verbosity\n",
      "  -y, --yes             confirm project generation\n",
      "  -g, --git             init and push the generate project the given git\n",
      "                        remote\n",
      "  -r REMOTE, --remote REMOTE\n",
      "                        identify the git remote of the project\n",
      "  -c CONFIG, --config CONFIG\n",
      "                        identify the path of the configuration file (.json) to\n",
      "                        automaticly generate the project\n",
      "\n",
      "If you need any additional support, visit the project website at\n",
      "https://github.com/adrianohrl/midwife.\n"
     ]
    }
   ],
   "source": [
    "%run ./argparser.py --help"
   ]
  },
  {
   "cell_type": "code",
   "execution_count": null,
   "metadata": {},
   "outputs": [],
   "source": []
  },
  {
   "cell_type": "code",
   "execution_count": null,
   "metadata": {},
   "outputs": [],
   "source": []
  },
  {
   "cell_type": "code",
   "execution_count": null,
   "metadata": {},
   "outputs": [],
   "source": []
  },
  {
   "cell_type": "code",
   "execution_count": null,
   "metadata": {},
   "outputs": [],
   "source": []
  },
  {
   "cell_type": "code",
   "execution_count": null,
   "metadata": {},
   "outputs": [],
   "source": []
  },
  {
   "cell_type": "code",
   "execution_count": null,
   "metadata": {},
   "outputs": [],
   "source": []
  },
  {
   "cell_type": "code",
   "execution_count": null,
   "metadata": {},
   "outputs": [],
   "source": []
  },
  {
   "cell_type": "code",
   "execution_count": null,
   "metadata": {},
   "outputs": [],
   "source": []
  },
  {
   "cell_type": "code",
   "execution_count": null,
   "metadata": {},
   "outputs": [],
   "source": []
  },
  {
   "cell_type": "code",
   "execution_count": null,
   "metadata": {},
   "outputs": [],
   "source": []
  },
  {
   "cell_type": "code",
   "execution_count": null,
   "metadata": {},
   "outputs": [],
   "source": []
  },
  {
   "cell_type": "code",
   "execution_count": null,
   "metadata": {},
   "outputs": [],
   "source": []
  },
  {
   "cell_type": "code",
   "execution_count": null,
   "metadata": {},
   "outputs": [],
   "source": []
  },
  {
   "cell_type": "markdown",
   "metadata": {},
   "source": [
    "## "
   ]
  }
 ],
 "metadata": {
  "kernelspec": {
   "display_name": "Python 3",
   "language": "python",
   "name": "python3"
  },
  "language_info": {
   "codemirror_mode": {
    "name": "ipython",
    "version": 3
   },
   "file_extension": ".py",
   "mimetype": "text/x-python",
   "name": "python",
   "nbconvert_exporter": "python",
   "pygments_lexer": "ipython3",
   "version": "3.6.8"
  }
 },
 "nbformat": 4,
 "nbformat_minor": 2
}
