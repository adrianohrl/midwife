{
 "cells": [
  {
   "cell_type": "markdown",
   "metadata": {},
   "source": [
    "## Setup"
   ]
  },
  {
   "cell_type": "code",
   "execution_count": 1,
   "metadata": {},
   "outputs": [],
   "source": [
    "%load_ext watermark\n",
    "%load_ext autoreload\n",
    "%autoreload 2"
   ]
  },
  {
   "cell_type": "code",
   "execution_count": 142,
   "metadata": {},
   "outputs": [
    {
     "name": "stdout",
     "output_type": "stream",
     "text": [
      "Adriano Henrique Rossette Leite 2019-03-19 23:57:45 \n",
      "\n",
      "CPython 3.6.6\n",
      "IPython 7.1.1\n",
      "\n",
      "os unknown\n",
      "argparse 1.1\n",
      "midwife 0.2.4\n"
     ]
    }
   ],
   "source": [
    "import os\n",
    "from argparse import Action, ArgumentTypeError, ArgumentParser\n",
    "import midwife\n",
    "\n",
    "%watermark -d -t -v -a \"Adriano Henrique Rossette Leite\" -p os,argparse,midwife"
   ]
  },
  {
   "cell_type": "markdown",
   "metadata": {},
   "source": [
    "## Defining the parser"
   ]
  },
  {
   "cell_type": "code",
   "execution_count": 143,
   "metadata": {},
   "outputs": [],
   "source": [
    "def show(args):\n",
    "    print('{}: {}'.format('language', args.language))\n",
    "    print('{}: {}'.format('path', args.path))\n",
    "    print('{}: {}'.format('name', args.name))\n",
    "    print('{}: {}'.format('verbose', args.verbose))\n",
    "    print('{}: {}'.format('quiet', args.quiet))\n",
    "    print('{}: {}'.format('yes', args.yes))\n",
    "    print('{}: {}'.format('git', args.git))\n",
    "    print('{}: {}'.format('config', args.config))\n",
    "    \n",
    "class ReadableDirectory(Action):\n",
    "    \n",
    "    def __call__(self, parser, namespace, value, option_string = None):\n",
    "        value = os.path.expanduser(value) if value.startswith('~') else value\n",
    "        value = os.path.abspath(value) if value.startswith('.') else value\n",
    "        if not os.path.isdir(value):\n",
    "            raise ArgumentTypeError('ReadableDirectory: {0} is not a valid path to a directory'.format(value))\n",
    "        if not os.access(value, os.R_OK):\n",
    "            raise ArgumentTypeError('ReadableDirectory: {0} is not a readable directory'.format(value))\n",
    "        setattr(namespace, self.dest, value)\n",
    "        \n",
    "class ReadableFile(Action):\n",
    "    \n",
    "    def __call__(self, parser, namespace, value, option_string = None):\n",
    "        value = os.path.expanduser(value) if value.startswith('~') else value\n",
    "        value = os.path.abspath(value) if value.startswith('.') else value\n",
    "        if not os.path.isfile(value):\n",
    "            raise ArgumentTypeError('ReadableFile: {0} is not a valid path to a file'.format(value))\n",
    "        if not os.access(value, os.R_OK):\n",
    "            raise ArgumentTypeError('ReadableFile: {0} is not a readable file'.format(value))\n",
    "        setattr(namespace, self.dest, value)"
   ]
  },
  {
   "cell_type": "code",
   "execution_count": 144,
   "metadata": {},
   "outputs": [
    {
     "data": {
      "text/plain": [
       "ReadableFile(option_strings=['-c', '--config'], dest='config', nargs=None, const=None, default=None, type=<class 'str'>, choices=None, help='identify the path of the |configuration file (.json) to automaticly generate the project', metavar=None)"
      ]
     },
     "execution_count": 144,
     "metadata": {},
     "output_type": "execute_result"
    }
   ],
   "source": [
    "url = 'https://github.com/adrianohrl/midwife'\n",
    "parser = ArgumentParser(\n",
    "    prog = 'midwife',\n",
    "    description = 'A tool for automaticly generating data science projects based on its metadata.',\n",
    "    epilog = 'If you need any additional support, visit the project website at {}.'.format(url),\n",
    ")\n",
    "parser.add_argument(\n",
    "    '-v',\n",
    "    '--version',\n",
    "    action = 'version', \n",
    "    version = '%(prog)s {}'.format(midwife.__version__),\n",
    ")\n",
    "parser.add_argument(\n",
    "    '-l',\n",
    "    '--language',\n",
    "    type = str,\n",
    "    default = 'en',\n",
    "    choices = ['en', 'pt'],\n",
    "    help = 'select the language (possibilities: en | pt)',\n",
    ")\n",
    "parser.add_argument(\n",
    "    '-p', \n",
    "    '--path', \n",
    "    type = str,\n",
    "    action = ReadableDirectory,\n",
    "    default = None,\n",
    "    help = 'path to the project location',\n",
    ")\n",
    "parser.add_argument(\n",
    "    '-n',\n",
    "    '--name',\n",
    "    type = str,\n",
    "    help = 'specify the name of the project to generated'\n",
    ")\n",
    "group = parser.add_mutually_exclusive_group()\n",
    "group.add_argument(\n",
    "    '-V', \n",
    "    '--verbose', \n",
    "    help = 'increase output verbosity',\n",
    "    action = 'store_true',\n",
    ")\n",
    "group.add_argument(\n",
    "    '-q', \n",
    "    '--quiet', \n",
    "    help = 'disable all outputs',\n",
    "    action = 'store_true',\n",
    ")\n",
    "parser.add_argument(\n",
    "    '-y', \n",
    "    '--yes', \n",
    "    help = 'confirm project generation',\n",
    "    action = 'store_true',\n",
    ")\n",
    "parser.add_argument(\n",
    "    '-g',\n",
    "    '--git',\n",
    "    help = 'init and push the generate project the url of the origin git remote',\n",
    "    type = str,\n",
    "    default = None,\n",
    "    metavar = 'ORIGIN_URL',\n",
    ")\n",
    "parser.add_argument(\n",
    "    '-c',\n",
    "    '--config',\n",
    "    type = str,\n",
    "    action = ReadableFile,\n",
    "    default = None,\n",
    "    help = 'identify the path of the |configuration file (.json) to automaticly generate the project',\n",
    ")"
   ]
  },
  {
   "cell_type": "markdown",
   "metadata": {},
   "source": [
    "#### Showing the help message"
   ]
  },
  {
   "cell_type": "code",
   "execution_count": 161,
   "metadata": {},
   "outputs": [
    {
     "name": "stdout",
     "output_type": "stream",
     "text": [
      "usage: midwife [-h] [-v] [-l {en,pt}] [-p PATH] [-n NAME] [-V | -q] [-y]\n",
      "               [-g ORIGIN_URL] [-c CONFIG]\n",
      "\n",
      "A tool for automaticly generating data science projects based on its metadata.\n",
      "\n",
      "optional arguments:\n",
      "  -h, --help            show this help message and exit\n",
      "  -v, --version         show program's version number and exit\n",
      "  -l {en,pt}, --language {en,pt}\n",
      "                        select the language (possibilities: en | pt)\n",
      "  -p PATH, --path PATH  path to the project location\n",
      "  -n NAME, --name NAME  specify the name of the project to generated\n",
      "  -V, --verbose         increase output verbosity\n",
      "  -q, --quiet           disable all outputs\n",
      "  -y, --yes             confirm project generation\n",
      "  -g ORIGIN_URL, --git ORIGIN_URL\n",
      "                        init and push the generate project the url of the\n",
      "                        origin git remote\n",
      "  -c CONFIG, --config CONFIG\n",
      "                        identify the path of the |configuration file (.json)\n",
      "                        to automaticly generate the project\n",
      "\n",
      "If you need any additional support, visit the project website at\n",
      "https://github.com/adrianohrl/midwife.\n"
     ]
    }
   ],
   "source": [
    "%run ../midwife/argparse.py -h"
   ]
  },
  {
   "cell_type": "code",
   "execution_count": 162,
   "metadata": {},
   "outputs": [
    {
     "name": "stdout",
     "output_type": "stream",
     "text": [
      "usage: midwife [-h] [-v] [-l {en,pt}] [-p PATH] [-n NAME] [-V | -q] [-y]\n",
      "               [-g ORIGIN_URL] [-c CONFIG]\n",
      "\n",
      "A tool for automaticly generating data science projects based on its metadata.\n",
      "\n",
      "optional arguments:\n",
      "  -h, --help            show this help message and exit\n",
      "  -v, --version         show program's version number and exit\n",
      "  -l {en,pt}, --language {en,pt}\n",
      "                        select the language (possibilities: en | pt)\n",
      "  -p PATH, --path PATH  path to the project location\n",
      "  -n NAME, --name NAME  specify the name of the project to generated\n",
      "  -V, --verbose         increase output verbosity\n",
      "  -q, --quiet           disable all outputs\n",
      "  -y, --yes             confirm project generation\n",
      "  -g ORIGIN_URL, --git ORIGIN_URL\n",
      "                        init and push the generate project the url of the\n",
      "                        origin git remote\n",
      "  -c CONFIG, --config CONFIG\n",
      "                        identify the path of the |configuration file (.json)\n",
      "                        to automaticly generate the project\n",
      "\n",
      "If you need any additional support, visit the project website at\n",
      "https://github.com/adrianohrl/midwife.\n"
     ]
    }
   ],
   "source": [
    "%run ../midwife/argparse.py --help"
   ]
  },
  {
   "cell_type": "markdown",
   "metadata": {},
   "source": [
    "## Showing the tool version"
   ]
  },
  {
   "cell_type": "code",
   "execution_count": 159,
   "metadata": {},
   "outputs": [
    {
     "name": "stdout",
     "output_type": "stream",
     "text": [
      "midwife 0.2.4\n"
     ]
    }
   ],
   "source": [
    "%run ../midwife/argparse.py -v"
   ]
  },
  {
   "cell_type": "code",
   "execution_count": 160,
   "metadata": {},
   "outputs": [
    {
     "name": "stdout",
     "output_type": "stream",
     "text": [
      "midwife 0.2.4\n"
     ]
    }
   ],
   "source": [
    "%run ../midwife/argparse.py --version"
   ]
  },
  {
   "cell_type": "markdown",
   "metadata": {},
   "source": [
    "## Testing"
   ]
  },
  {
   "cell_type": "code",
   "execution_count": null,
   "metadata": {},
   "outputs": [],
   "source": [
    "    "
   ]
  },
  {
   "cell_type": "markdown",
   "metadata": {},
   "source": [
    "#### Language selection"
   ]
  },
  {
   "cell_type": "code",
   "execution_count": 149,
   "metadata": {},
   "outputs": [
    {
     "name": "stdout",
     "output_type": "stream",
     "text": [
      "language: en\n",
      "path: /home/adrianohrl/Projects/Python/midwife/notebooks\n",
      "name: None\n",
      "verbose: False\n",
      "quiet: False\n",
      "yes: False\n",
      "git: None\n",
      "config: None\n"
     ]
    }
   ],
   "source": [
    "command = 'midwife -l en'.split()\n",
    "args = parser.parse_args(command[1:])\n",
    "show(args)"
   ]
  },
  {
   "cell_type": "code",
   "execution_count": 150,
   "metadata": {},
   "outputs": [
    {
     "name": "stdout",
     "output_type": "stream",
     "text": [
      "language: pt\n",
      "path: /home/adrianohrl/Projects/Python/midwife/notebooks\n",
      "name: None\n",
      "verbose: False\n",
      "quiet: False\n",
      "yes: False\n",
      "git: None\n",
      "config: None\n"
     ]
    }
   ],
   "source": [
    "command = 'midwife -l pt'.split()\n",
    "args = parser.parse_args(command[1:])\n",
    "show(args)"
   ]
  },
  {
   "cell_type": "code",
   "execution_count": 151,
   "metadata": {},
   "outputs": [
    {
     "name": "stderr",
     "output_type": "stream",
     "text": [
      "usage: midwife [-h] [-v] [-l {en,pt}] [-p PATH] [-n NAME] [-V | -q] [-y]\n",
      "               [-g ORIGIN_URL] [-c CONFIG]\n",
      "midwife: error: argument -l/--language: invalid choice: 'fr' (choose from 'en', 'pt')\n"
     ]
    },
    {
     "ename": "SystemExit",
     "evalue": "2",
     "output_type": "error",
     "traceback": [
      "An exception has occurred, use %tb to see the full traceback.\n",
      "\u001b[0;31mSystemExit\u001b[0m\u001b[0;31m:\u001b[0m 2\n"
     ]
    }
   ],
   "source": [
    "command = 'midwife -l fr'.split()\n",
    "args = parser.parse_args(command[1:])\n",
    "show(args)"
   ]
  },
  {
   "cell_type": "markdown",
   "metadata": {},
   "source": [
    "#### Selecting the project path"
   ]
  },
  {
   "cell_type": "code",
   "execution_count": 152,
   "metadata": {},
   "outputs": [
    {
     "name": "stdout",
     "output_type": "stream",
     "text": [
      "language: en\n",
      "path: ~/Projects/Python/example\n",
      "name: None\n",
      "verbose: False\n",
      "quiet: False\n",
      "yes: False\n",
      "git: None\n",
      "config: None\n"
     ]
    }
   ],
   "source": [
    "command = 'midwife -p ~/Projects/Python/example'.split()\n",
    "args = parser.parse_args(command[1:])\n",
    "show(args)"
   ]
  },
  {
   "cell_type": "code",
   "execution_count": 157,
   "metadata": {},
   "outputs": [
    {
     "name": "stdout",
     "output_type": "stream",
     "text": [
      "language: en\n",
      "path: ~/ei/example\n",
      "name: None\n",
      "verbose: False\n",
      "quiet: False\n",
      "yes: False\n",
      "git: None\n",
      "config: None\n"
     ]
    }
   ],
   "source": [
    "command = 'midwife -p ~/ei/example'.split()\n",
    "args = parser.parse_args(command[1:])\n",
    "show(args)"
   ]
  },
  {
   "cell_type": "code",
   "execution_count": 154,
   "metadata": {},
   "outputs": [
    {
     "name": "stdout",
     "output_type": "stream",
     "text": [
      "language: en\n",
      "path: /home/adrianohrl/Projects/Python/midwife/notebooks\n",
      "name: None\n",
      "verbose: False\n",
      "quiet: False\n",
      "yes: False\n",
      "git: None\n",
      "config: ./git.ipynb\n"
     ]
    }
   ],
   "source": [
    "command = 'midwife -c ./git.ipynb'.split()\n",
    "args = parser.parse_args(command[1:])\n",
    "show(args)"
   ]
  },
  {
   "cell_type": "code",
   "execution_count": null,
   "metadata": {},
   "outputs": [],
   "source": []
  },
  {
   "cell_type": "code",
   "execution_count": null,
   "metadata": {},
   "outputs": [],
   "source": []
  },
  {
   "cell_type": "code",
   "execution_count": null,
   "metadata": {},
   "outputs": [],
   "source": []
  },
  {
   "cell_type": "code",
   "execution_count": null,
   "metadata": {},
   "outputs": [],
   "source": []
  },
  {
   "cell_type": "code",
   "execution_count": 134,
   "metadata": {},
   "outputs": [
    {
     "name": "stderr",
     "output_type": "stream",
     "text": [
      "usage: midwife [-h] [-v] [-l {en,pt}] [-p PATH] [-n NAME] [-V | -q] [-y]\n",
      "               [-g ORIGIN_URL] [-c CONFIG]\n",
      "midwife: error: unrecognized arguments: --en\n"
     ]
    },
    {
     "ename": "SystemExit",
     "evalue": "2",
     "output_type": "error",
     "traceback": [
      "An exception has occurred, use %tb to see the full traceback.\n",
      "\u001b[0;31mSystemExit\u001b[0m\u001b[0;31m:\u001b[0m 2\n"
     ]
    }
   ],
   "source": [
    "%run ../midwife/argparse.py --en"
   ]
  },
  {
   "cell_type": "code",
   "execution_count": null,
   "metadata": {},
   "outputs": [],
   "source": []
  }
 ],
 "metadata": {
  "kernelspec": {
   "display_name": "Python 3",
   "language": "python",
   "name": "python3"
  },
  "language_info": {
   "codemirror_mode": {
    "name": "ipython",
    "version": 3
   },
   "file_extension": ".py",
   "mimetype": "text/x-python",
   "name": "python",
   "nbconvert_exporter": "python",
   "pygments_lexer": "ipython3",
   "version": "3.6.6"
  }
 },
 "nbformat": 4,
 "nbformat_minor": 2
}
