{
 "cells": [
  {
   "cell_type": "markdown",
   "metadata": {},
   "source": [
    "# Setup"
   ]
  },
  {
   "cell_type": "code",
   "execution_count": 11,
   "metadata": {},
   "outputs": [
    {
     "name": "stdout",
     "output_type": "stream",
     "text": [
      "/home/adrianohrl/Projects/Python/project_maker/notebooks\n",
      "--2019-02-19 23:51:53--  https://raw.githubusercontent.com/github/gitignore/master/Python.gitignore\n",
      "Resolving raw.githubusercontent.com (raw.githubusercontent.com)... 151.101.64.133, 151.101.0.133, 151.101.192.133, ...\n",
      "Connecting to raw.githubusercontent.com (raw.githubusercontent.com)|151.101.64.133|:443... connected.\n",
      "HTTP request sent, awaiting response... 200 OK\n",
      "Length: 1347 (1.3K) [text/plain]\n",
      "Saving to: ‘../templates/python.gitignore’\n",
      "\n",
      "../templates/python 100%[===================>]   1.32K  --.-KB/s    in 0s      \n",
      "\n",
      "2019-02-19 23:51:53 (72.5 MB/s) - ‘../templates/python.gitignore’ saved [1347/1347]\n",
      "\n"
     ]
    }
   ],
   "source": [
    "!pwd\n",
    "!wget https://raw.githubusercontent.com/github/gitignore/master/Python.gitignore -O ../templates/python.gitignore\n",
    "!cp ../templates/python.gitignore ../.gitignore"
   ]
  },
  {
   "cell_type": "code",
   "execution_count": 1,
   "metadata": {},
   "outputs": [
    {
     "name": "stdout",
     "output_type": "stream",
     "text": [
      ".   .git\t.ipynb_checkpoints  project_maker  templates\n",
      "..  .gitignore\tnotebooks\t    setup.py\n"
     ]
    }
   ],
   "source": [
    "!ls -a .."
   ]
  },
  {
   "cell_type": "code",
   "execution_count": 2,
   "metadata": {},
   "outputs": [],
   "source": [
    "import os"
   ]
  },
  {
   "cell_type": "markdown",
   "metadata": {},
   "source": [
    "# Creating project root"
   ]
  },
  {
   "cell_type": "code",
   "execution_count": null,
   "metadata": {},
   "outputs": [],
   "source": []
  },
  {
   "cell_type": "markdown",
   "metadata": {},
   "source": [
    "# Creating project directories"
   ]
  },
  {
   "cell_type": "code",
   "execution_count": 6,
   "metadata": {},
   "outputs": [],
   "source": [
    "dirs = [\n",
    "    '{project_name}/annotations/',\n",
    "    '{project_name}/data/external/',\n",
    "    '{project_name}/data/interim/',\n",
    "    '{project_name}/data/processed/',\n",
    "    '{project_name}/data/raw/',\n",
    "    '{project_name}/docs/',\n",
    "    '{project_name}/models/',\n",
    "    '{project_name}/notebooks/',\n",
    "    '{project_name}/{project_name}/',\n",
    "    '{project_name}/{project_name}/data/',\n",
    "    '{project_name}/{project_name}/features/',\n",
    "    '{project_name}/{project_name}/models/',\n",
    "    '{project_name}/{project_name}/eval/',\n",
    "]\n",
    "\n",
    "files = [\n",
    "    '{project_name}/requirements.txt',\n",
    "    '{project_name}/Makefile',\n",
    "    '{project_name}/setup.py',\n",
    "    '{project_name}/README.md',\n",
    "    '{project_name}/{project_name}/__init__.py',\n",
    "    '{project_name}/{project_name}/data/make_dataset.py',\n",
    "    '{project_name}/{project_name}/features/build_features.py',\n",
    "    '{project_name}/{project_name}/models/predict_model.py',\n",
    "    '{project_name}/{project_name}/models/train_model.py',\n",
    "    '{project_name}/{project_name}/eval/visualize.py',\n",
    "]"
   ]
  },
  {
   "cell_type": "code",
   "execution_count": null,
   "metadata": {},
   "outputs": [],
   "source": []
  },
  {
   "cell_type": "markdown",
   "metadata": {},
   "source": [
    "# Creating the `.gitignore` file of the project"
   ]
  },
  {
   "cell_type": "code",
   "execution_count": null,
   "metadata": {},
   "outputs": [],
   "source": [
    "git_ignore = [\n",
    "    'annotations/',\n",
    "    'models/',\n",
    "    'data/',\n",
    "]"
   ]
  },
  {
   "cell_type": "markdown",
   "metadata": {},
   "source": [
    "# Creating the `setup.py` file of the project"
   ]
  },
  {
   "cell_type": "code",
   "execution_count": null,
   "metadata": {},
   "outputs": [],
   "source": []
  },
  {
   "cell_type": "markdown",
   "metadata": {},
   "source": [
    "# Creating the `requeriments.txt` file of the project"
   ]
  },
  {
   "cell_type": "code",
   "execution_count": null,
   "metadata": {},
   "outputs": [],
   "source": []
  },
  {
   "cell_type": "markdown",
   "metadata": {},
   "source": [
    "# Creating the MakeFile file of the project"
   ]
  },
  {
   "cell_type": "code",
   "execution_count": null,
   "metadata": {},
   "outputs": [],
   "source": []
  },
  {
   "cell_type": "markdown",
   "metadata": {},
   "source": [
    "# Defining the `Project` class"
   ]
  },
  {
   "cell_type": "code",
   "execution_count": 4,
   "metadata": {},
   "outputs": [],
   "source": [
    "class Project(object):\n",
    "    \n",
    "    def __init__(self, name):\n",
    "        self.name = name\n",
    "        \n",
    "    def generate(self):\n",
    "        pass"
   ]
  },
  {
   "cell_type": "markdown",
   "metadata": {},
   "source": [
    "# An example project generation"
   ]
  },
  {
   "cell_type": "code",
   "execution_count": 5,
   "metadata": {},
   "outputs": [],
   "source": [
    "project = Project('example')"
   ]
  },
  {
   "cell_type": "markdown",
   "metadata": {},
   "source": [
    "# Automating the project structure generation"
   ]
  },
  {
   "cell_type": "code",
   "execution_count": null,
   "metadata": {},
   "outputs": [],
   "source": [
    "defaults = {\n",
    "    'parent': '.'\n",
    "}"
   ]
  }
 ],
 "metadata": {
  "kernelspec": {
   "display_name": "Python 3",
   "language": "python",
   "name": "python3"
  },
  "language_info": {
   "codemirror_mode": {
    "name": "ipython",
    "version": 3
   },
   "file_extension": ".py",
   "mimetype": "text/x-python",
   "name": "python",
   "nbconvert_exporter": "python",
   "pygments_lexer": "ipython3",
   "version": "3.6.6"
  }
 },
 "nbformat": 4,
 "nbformat_minor": 2
}
