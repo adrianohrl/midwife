{
 "cells": [
  {
   "cell_type": "markdown",
   "metadata": {},
   "source": [
    "# Setup"
   ]
  },
  {
   "cell_type": "code",
   "execution_count": 11,
   "metadata": {},
   "outputs": [
    {
     "name": "stdout",
     "output_type": "stream",
     "text": [
      "/home/adrianohrl/Projects/Python/project_maker/notebooks\n",
      "--2019-02-19 23:51:53--  https://raw.githubusercontent.com/github/gitignore/master/Python.gitignore\n",
      "Resolving raw.githubusercontent.com (raw.githubusercontent.com)... 151.101.64.133, 151.101.0.133, 151.101.192.133, ...\n",
      "Connecting to raw.githubusercontent.com (raw.githubusercontent.com)|151.101.64.133|:443... connected.\n",
      "HTTP request sent, awaiting response... 200 OK\n",
      "Length: 1347 (1.3K) [text/plain]\n",
      "Saving to: ‘../templates/python.gitignore’\n",
      "\n",
      "../templates/python 100%[===================>]   1.32K  --.-KB/s    in 0s      \n",
      "\n",
      "2019-02-19 23:51:53 (72.5 MB/s) - ‘../templates/python.gitignore’ saved [1347/1347]\n",
      "\n"
     ]
    }
   ],
   "source": [
    "!pwd\n",
    "!wget https://raw.githubusercontent.com/github/gitignore/master/Python.gitignore -O ../templates/python.gitignore\n",
    "!cp ../templates/python.gitignore ../.gitignore"
   ]
  },
  {
   "cell_type": "code",
   "execution_count": 1,
   "metadata": {},
   "outputs": [
    {
     "name": "stdout",
     "output_type": "stream",
     "text": [
      ".   .git\t.ipynb_checkpoints  project_maker  templates\n",
      "..  .gitignore\tnotebooks\t    setup.py\n"
     ]
    }
   ],
   "source": [
    "!ls -a .."
   ]
  },
  {
   "cell_type": "code",
   "execution_count": 58,
   "metadata": {},
   "outputs": [
    {
     "name": "stdout",
     "output_type": "stream",
     "text": [
      "The autoreload extension is already loaded. To reload it, use:\n",
      "  %reload_ext autoreload\n"
     ]
    }
   ],
   "source": [
    "%load_ext autoreload\n",
    "%autoreload 2\n",
    "\n",
    "import os\n",
    "import json\n",
    "import shutil\n",
    "import subprocess\n",
    "from project_generator import Project"
   ]
  },
  {
   "cell_type": "code",
   "execution_count": 59,
   "metadata": {},
   "outputs": [],
   "source": [
    "params = {\n",
    "    'directories': [\n",
    "        '{root}',\n",
    "        '{root}/annotations/images',\n",
    "        '{root}/annotations/presentations',\n",
    "        '{root}/annotations/references',\n",
    "        '{root}/data/external/',\n",
    "        '{root}/data/interim/',\n",
    "        '{root}/data/processed/',\n",
    "        '{root}/data/raw/',\n",
    "        '{root}/docs/',\n",
    "        '{root}/models/',\n",
    "        '{root}/notebooks/',\n",
    "        '{root}/{name}/',\n",
    "        '{root}/{name}/data/',\n",
    "        '{root}/{name}/features/',\n",
    "        '{root}/{name}/models/',\n",
    "        '{root}/{name}/eval/',\n",
    "    ],\n",
    "    'templates': {\n",
    "        'gitignore': '{path}/templates/python.gitignore.template',\n",
    "        'makefile': '{path}/templates/Makefile.template',\n",
    "        'setup': '{path}/templates/setup.py.template',\n",
    "        'readme': '{path}/templates/README.md.template',\n",
    "        'init': '{path}/templates/__init__.py.template',\n",
    "        'others': [\n",
    "            '{path}/templates/data/make_dataset.py.template',\n",
    "            '{path}/templates/features/build_features.py.template',\n",
    "            '{path}/templates/models/predict_model.py.template',\n",
    "            '{path}/templates/models/train_model.py.template',\n",
    "            '{path}/templates/eval/visualize.py.template',\n",
    "        ],\n",
    "    },\n",
    "    'files': {\n",
    "        'gitignore': '{root}/.gitignore',\n",
    "        'requirements': '{root}/requirements.txt',\n",
    "        'makefile': '{root}/Makefile',\n",
    "        'setup': '{root}/setup.py',\n",
    "        'readme': '{root}/README.md',\n",
    "        'init': '{root}/{name}/__init__.py',\n",
    "        'others': [\n",
    "            '{root}/{name}/data/make_dataset.py',\n",
    "            '{root}/{name}/features/build_features.py',\n",
    "            '{root}/{name}/models/predict_model.py',\n",
    "            '{root}/{name}/models/train_model.py',\n",
    "            '{root}/{name}/eval/visualize.py',\n",
    "        ],\n",
    "    },\n",
    "    'gitignores': [\n",
    "        'annotations/',\n",
    "        'models/',\n",
    "        'data/',\n",
    "    ],\n",
    "    'gitlab': {\n",
    "        'url': 'https://gitlab.com',\n",
    "        'namespace': 'adrianohrl',\n",
    "    },\n",
    "}\n",
    "filename = '../templates/params.json'\n",
    "with open(filename, 'w') as f:\n",
    "    json.dump(params, f)"
   ]
  },
  {
   "cell_type": "code",
   "execution_count": 60,
   "metadata": {},
   "outputs": [
    {
     "name": "stdout",
     "output_type": "stream",
     "text": [
      "Removed the /home/adrianohrl/Projects/Python/example directory.\n",
      "Created the /home/adrianohrl/Projects/Python/example directory.\n",
      "Created the /home/adrianohrl/Projects/Python/example/annotations/images directory.\n",
      "Created the /home/adrianohrl/Projects/Python/example/annotations/presentations directory.\n",
      "Created the /home/adrianohrl/Projects/Python/example/annotations/references directory.\n",
      "Created the /home/adrianohrl/Projects/Python/example/data/external/ directory.\n",
      "Created the /home/adrianohrl/Projects/Python/example/data/interim/ directory.\n",
      "Created the /home/adrianohrl/Projects/Python/example/data/processed/ directory.\n",
      "Created the /home/adrianohrl/Projects/Python/example/data/raw/ directory.\n",
      "Created the /home/adrianohrl/Projects/Python/example/docs/ directory.\n",
      "Created the /home/adrianohrl/Projects/Python/example/models/ directory.\n",
      "Created the /home/adrianohrl/Projects/Python/example/notebooks/ directory.\n",
      "Created the /home/adrianohrl/Projects/Python/example/example/ directory.\n",
      "Created the /home/adrianohrl/Projects/Python/example/example/data/ directory.\n",
      "Created the /home/adrianohrl/Projects/Python/example/example/features/ directory.\n",
      "Created the /home/adrianohrl/Projects/Python/example/example/models/ directory.\n",
      "Created the /home/adrianohrl/Projects/Python/example/example/eval/ directory.\n",
      "Created the /home/adrianohrl/Projects/Python/example/setup.py file.\n",
      "Created the /home/adrianohrl/Projects/Python/example/example/__init__.py file.\n",
      "Created the /home/adrianohrl/Projects/Python/example/requirements.txt file.\n",
      "Created the /home/adrianohrl/Projects/Python/example/README.md file.\n",
      "Created the /home/adrianohrl/Projects/Python/example/.gitignore file.\n",
      "Created the /home/adrianohrl/Projects/Python/example/Makefile file.\n",
      "Created the /home/adrianohrl/Projects/Python/example/example/data/make_dataset.py file.\n",
      "Created the /home/adrianohrl/Projects/Python/example/example/features/build_features.py file.\n",
      "Created the /home/adrianohrl/Projects/Python/example/example/models/predict_model.py file.\n",
      "Created the /home/adrianohrl/Projects/Python/example/example/models/train_model.py file.\n",
      "Created the /home/adrianohrl/Projects/Python/example/example/eval/visualize.py file.\n",
      "Created the example project structure at /home/adrianohrl/Projects/Python, successfully!\n"
     ]
    }
   ],
   "source": [
    "from project_generator import Project\n",
    "info = {\n",
    "    'parent': '../..',\n",
    "    'name': 'example',\n",
    "    'authors': [{\n",
    "            'name': 'Adriano Henrique Rossette Leite',\n",
    "            'email': 'contact@adrianohrl.tech',\n",
    "            'racf': 'adrianohrl',\n",
    "        }, {\n",
    "            'name': 'Henrique Rossette Leite',\n",
    "            'email': 'me@adrianohrl.tech',\n",
    "            'racf': 'henriquerl',\n",
    "        },\n",
    "    ],\n",
    "    'description': 'This is an example.',\n",
    "    'license': 'BSD',\n",
    "    'keywords': [\n",
    "        'project',\n",
    "        'generator',\n",
    "        'example',\n",
    "    ],\n",
    "}\n",
    "root = os.path.abspath(os.path.join(info['parent'], info['name']))\n",
    "if os.path.exists(root):\n",
    "    shutil.rmtree(root)\n",
    "    print('Removed the {} directory.'.format(root))\n",
    "project = Project(**info)\n",
    "project.generate()"
   ]
  },
  {
   "cell_type": "markdown",
   "metadata": {},
   "source": [
    "# Creating project directories"
   ]
  },
  {
   "cell_type": "code",
   "execution_count": 18,
   "metadata": {},
   "outputs": [],
   "source": [
    "def generate_root(path, name):\n",
    "    print('creating directories...')\n",
    "    for directory in params['directories']:\n",
    "        directory = os.path.join(path, directory.format(project_name = name))\n",
    "        os.makedirs(directory)\n",
    "        print('created {}'.format(directory))"
   ]
  },
  {
   "cell_type": "code",
   "execution_count": 19,
   "metadata": {},
   "outputs": [],
   "source": [
    "generate_root(path, name)"
   ]
  },
  {
   "cell_type": "markdown",
   "metadata": {},
   "source": [
    "# Creating the `.gitignore` file of the project"
   ]
  },
  {
   "cell_type": "code",
   "execution_count": 20,
   "metadata": {},
   "outputs": [],
   "source": [
    "def generate_gitignore(path):\n",
    "    filename = os.path.join(path, '.gitignore')\n",
    "    shutil.copy2(params['git_ignore_filename'], filename)\n",
    "    with open(filename, 'a') as f:\n",
    "        f.write('\\n\\n## Data Science')\n",
    "        for ignore in params['git_ignore']:\n",
    "            f.write('\\n' + ignore)"
   ]
  },
  {
   "cell_type": "code",
   "execution_count": 21,
   "metadata": {},
   "outputs": [
    {
     "ename": "KeyError",
     "evalue": "'git_ignore_filename'",
     "output_type": "error",
     "traceback": [
      "\u001b[0;31m---------------------------------------------------------------------------\u001b[0m",
      "\u001b[0;31mKeyError\u001b[0m                                  Traceback (most recent call last)",
      "\u001b[0;32m<ipython-input-21-e826cfc75eaa>\u001b[0m in \u001b[0;36m<module>\u001b[0;34m\u001b[0m\n\u001b[0;32m----> 1\u001b[0;31m \u001b[0mgenerate_gitignore\u001b[0m\u001b[0;34m(\u001b[0m\u001b[0mpath\u001b[0m\u001b[0;34m)\u001b[0m\u001b[0;34m\u001b[0m\u001b[0m\n\u001b[0m",
      "\u001b[0;32m<ipython-input-20-f322ef382513>\u001b[0m in \u001b[0;36mgenerate_gitignore\u001b[0;34m(path)\u001b[0m\n\u001b[1;32m      1\u001b[0m \u001b[0;32mdef\u001b[0m \u001b[0mgenerate_gitignore\u001b[0m\u001b[0;34m(\u001b[0m\u001b[0mpath\u001b[0m\u001b[0;34m)\u001b[0m\u001b[0;34m:\u001b[0m\u001b[0;34m\u001b[0m\u001b[0m\n\u001b[1;32m      2\u001b[0m     \u001b[0mfilename\u001b[0m \u001b[0;34m=\u001b[0m \u001b[0mos\u001b[0m\u001b[0;34m.\u001b[0m\u001b[0mpath\u001b[0m\u001b[0;34m.\u001b[0m\u001b[0mjoin\u001b[0m\u001b[0;34m(\u001b[0m\u001b[0mpath\u001b[0m\u001b[0;34m,\u001b[0m \u001b[0;34m'.gitignore'\u001b[0m\u001b[0;34m)\u001b[0m\u001b[0;34m\u001b[0m\u001b[0m\n\u001b[0;32m----> 3\u001b[0;31m     \u001b[0mshutil\u001b[0m\u001b[0;34m.\u001b[0m\u001b[0mcopy2\u001b[0m\u001b[0;34m(\u001b[0m\u001b[0mparams\u001b[0m\u001b[0;34m[\u001b[0m\u001b[0;34m'git_ignore_filename'\u001b[0m\u001b[0;34m]\u001b[0m\u001b[0;34m,\u001b[0m \u001b[0mfilename\u001b[0m\u001b[0;34m)\u001b[0m\u001b[0;34m\u001b[0m\u001b[0m\n\u001b[0m\u001b[1;32m      4\u001b[0m     \u001b[0;32mwith\u001b[0m \u001b[0mopen\u001b[0m\u001b[0;34m(\u001b[0m\u001b[0mfilename\u001b[0m\u001b[0;34m,\u001b[0m \u001b[0;34m'a'\u001b[0m\u001b[0;34m)\u001b[0m \u001b[0;32mas\u001b[0m \u001b[0mf\u001b[0m\u001b[0;34m:\u001b[0m\u001b[0;34m\u001b[0m\u001b[0m\n\u001b[1;32m      5\u001b[0m         \u001b[0mf\u001b[0m\u001b[0;34m.\u001b[0m\u001b[0mwrite\u001b[0m\u001b[0;34m(\u001b[0m\u001b[0;34m'\\n\\n## Data Science'\u001b[0m\u001b[0;34m)\u001b[0m\u001b[0;34m\u001b[0m\u001b[0m\n",
      "\u001b[0;31mKeyError\u001b[0m: 'git_ignore_filename'"
     ]
    }
   ],
   "source": [
    "generate_gitignore(path)"
   ]
  },
  {
   "cell_type": "markdown",
   "metadata": {},
   "source": [
    "# Creating the `setup.py` file of the project"
   ]
  },
  {
   "cell_type": "code",
   "execution_count": null,
   "metadata": {},
   "outputs": [],
   "source": []
  },
  {
   "cell_type": "markdown",
   "metadata": {},
   "source": [
    "# Creating the `requeriments.txt` file of the project"
   ]
  },
  {
   "cell_type": "code",
   "execution_count": null,
   "metadata": {},
   "outputs": [],
   "source": []
  },
  {
   "cell_type": "markdown",
   "metadata": {},
   "source": [
    "# Creating the MakeFile file of the project"
   ]
  },
  {
   "cell_type": "code",
   "execution_count": null,
   "metadata": {},
   "outputs": [],
   "source": []
  },
  {
   "cell_type": "markdown",
   "metadata": {},
   "source": [
    "# Defining the `Project` class"
   ]
  },
  {
   "cell_type": "code",
   "execution_count": 4,
   "metadata": {},
   "outputs": [],
   "source": []
  },
  {
   "cell_type": "markdown",
   "metadata": {},
   "source": [
    "# An example project generation"
   ]
  },
  {
   "cell_type": "code",
   "execution_count": 5,
   "metadata": {},
   "outputs": [],
   "source": [
    "project = Project('example')"
   ]
  },
  {
   "cell_type": "markdown",
   "metadata": {},
   "source": [
    "# Automating the project structure generation"
   ]
  },
  {
   "cell_type": "code",
   "execution_count": null,
   "metadata": {},
   "outputs": [],
   "source": [
    "defaults = {\n",
    "    'parent': '.'\n",
    "}"
   ]
  }
 ],
 "metadata": {
  "kernelspec": {
   "display_name": "Python 3",
   "language": "python",
   "name": "python3"
  },
  "language_info": {
   "codemirror_mode": {
    "name": "ipython",
    "version": 3
   },
   "file_extension": ".py",
   "mimetype": "text/x-python",
   "name": "python",
   "nbconvert_exporter": "python",
   "pygments_lexer": "ipython3",
   "version": "3.6.6"
  }
 },
 "nbformat": 4,
 "nbformat_minor": 2
}
