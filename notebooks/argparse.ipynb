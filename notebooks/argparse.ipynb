{
 "cells": [
  {
   "cell_type": "markdown",
   "metadata": {},
   "source": [
    "## Setup"
   ]
  },
  {
   "cell_type": "code",
   "execution_count": 1,
   "metadata": {},
   "outputs": [],
   "source": [
    "%load_ext watermark\n",
    "%load_ext autoreload\n",
    "%autoreload 2"
   ]
  },
  {
   "cell_type": "code",
   "execution_count": 8,
   "metadata": {},
   "outputs": [
    {
     "name": "stdout",
     "output_type": "stream",
     "text": [
      "Adriano Henrique Rossette Leite 2019-03-18 23:26:53 \n",
      "\n",
      "CPython 3.6.6\n",
      "IPython 7.1.1\n",
      "\n",
      "os unknown\n",
      "argparse 1.1\n",
      "midwife 0.2.4\n"
     ]
    }
   ],
   "source": [
    "import os\n",
    "import argparse\n",
    "import midwife\n",
    "\n",
    "%watermark -d -t -v -a \"Adriano Henrique Rossette Leite\" -p os,argparse,midwife"
   ]
  },
  {
   "cell_type": "markdown",
   "metadata": {},
   "source": [
    "## Defining the parser"
   ]
  },
  {
   "cell_type": "code",
   "execution_count": 22,
   "metadata": {},
   "outputs": [
    {
     "data": {
      "text/plain": [
       "_StoreAction(option_strings=['-c', '--config'], dest='config', nargs=None, const=None, default=None, type=<class 'str'>, choices=None, help='identify the path of the |configuration file (.json) to automaticly generate the project', metavar=None)"
      ]
     },
     "execution_count": 22,
     "metadata": {},
     "output_type": "execute_result"
    }
   ],
   "source": [
    "url = 'https://github.com/adrianohrl/midwife'\n",
    "parser = argparse.ArgumentParser(\n",
    "    prog = 'midwife',\n",
    "    description = 'A tool for automaticly generating data science projects based on its metadata.',\n",
    "    epilog = 'If you need any additional support, visit the project website at {}.'.format(url),\n",
    ")\n",
    "parser.add_argument(\n",
    "    '-v',\n",
    "    '--version',\n",
    "    action = 'version', \n",
    "    version = '%(prog)s {}'.format(midwife.__version__),\n",
    ")\n",
    "group = parser.add_mutually_exclusive_group()\n",
    "group.add_argument(\n",
    "    '--en',\n",
    "    help = 'select the English language',\n",
    "    action = 'store_true',\n",
    ")\n",
    "group.add_argument(\n",
    "    '--pt',\n",
    "    help = 'select the Portuguese language',\n",
    "    action = 'store_true',\n",
    ")\n",
    "group.add_argument(\n",
    "    '-l',\n",
    "    '--language',\n",
    "    type = str,\n",
    "    default = 'en',\n",
    "    choices = ['en', 'pt'],\n",
    "    help = 'select the language (possibilities: en | pt)',\n",
    ")\n",
    "parser.add_argument(\n",
    "    '-p', \n",
    "    '--path', \n",
    "    type = str,\n",
    "    default = os.path.abspath('.'),\n",
    "    help = 'path to the project location',\n",
    ")\n",
    "parser.add_argument(\n",
    "    '-n',\n",
    "    '--name',\n",
    "    type = str,\n",
    "    help = 'specify the name of the project to generated'\n",
    ")\n",
    "group = parser.add_mutually_exclusive_group()\n",
    "group.add_argument(\n",
    "    '-V', \n",
    "    '--verbose', \n",
    "    help = 'increase output verbosity',\n",
    "    action = 'store_true',\n",
    ")\n",
    "group.add_argument(\n",
    "    '-q', \n",
    "    '--quiet', \n",
    "    help = 'disable all outputs',\n",
    "    action = 'store_true',\n",
    ")\n",
    "parser.add_argument(\n",
    "    '-y', \n",
    "    '--yes', \n",
    "    help = 'confirm project generation',\n",
    "    action = 'store_true',\n",
    ")\n",
    "parser.add_argument(\n",
    "    '-g',\n",
    "    '--git',\n",
    "    help = 'init and push the generate project the url of the origin git remote',\n",
    "    type = str,\n",
    "    default = None,\n",
    "    metavar = 'ORIGIN_URL',\n",
    ")\n",
    "parser.add_argument(\n",
    "    '-c',\n",
    "    '--config',\n",
    "    type = str,\n",
    "    help = 'identify the path of the |configuration file (.json) to automaticly generate the project',\n",
    ")"
   ]
  },
  {
   "cell_type": "markdown",
   "metadata": {},
   "source": [
    "## The `help` message"
   ]
  },
  {
   "cell_type": "code",
   "execution_count": 26,
   "metadata": {},
   "outputs": [
    {
     "name": "stdout",
     "output_type": "stream",
     "text": [
      "usage: midwife [-h] [-v] [--en | --pt | -l {en,pt}] [-p PATH] [-n NAME]\n",
      "               [-V | -q] [-y] [-g ORIGIN_URL] [-r REMOTE] [-c CONFIG]\n",
      "\n",
      "A tool for automaticly generating data science projects based on its metadata.\n",
      "\n",
      "optional arguments:\n",
      "  -h, --help            show this help message and exit\n",
      "  -v, --version         show program's version number and exit\n",
      "  --en                  select the English language\n",
      "  --pt                  select the Portuguese language\n",
      "  -l {en,pt}, --language {en,pt}\n",
      "                        select the language (possibilities: en | pt)\n",
      "  -p PATH, --path PATH  path to the project location\n",
      "  -n NAME, --name NAME  specify the name of the project to generated\n",
      "  -V, --verbose         increase output verbosity\n",
      "  -q, --quiet           disable all outputs\n",
      "  -y, --yes             confirm project generation\n",
      "  -g ORIGIN_URL, --git ORIGIN_URL\n",
      "                        init and push the generate project the url of the\n",
      "                        origin git remote\n",
      "  -r REMOTE, --remote REMOTE\n",
      "                        identify the git remote of the project\n",
      "  -c CONFIG, --config CONFIG\n",
      "                        identify the path of the |configuration file (.json)\n",
      "                        to automaticly generate the project\n",
      "\n",
      "If you need any additional support, visit the project website at\n",
      "https://github.com/adrianohrl/midwife.\n"
     ]
    }
   ],
   "source": [
    "parser.print_help()"
   ]
  },
  {
   "cell_type": "code",
   "execution_count": null,
   "metadata": {},
   "outputs": [],
   "source": []
  },
  {
   "cell_type": "markdown",
   "metadata": {},
   "source": [
    "## Testing"
   ]
  },
  {
   "cell_type": "code",
   "execution_count": 41,
   "metadata": {},
   "outputs": [],
   "source": [
    "def show(args):\n",
    "    print('{}: {}'.format('en', args.en))\n",
    "    print('{}: {}'.format('pt', args.pt))\n",
    "    print('{}: {}'.format('language', args.language))\n",
    "    print('{}: {}'.format('path', args.path))\n",
    "    print('{}: {}'.format('name', args.name))\n",
    "    print('{}: {}'.format('verbose', args.verbose))\n",
    "    print('{}: {}'.format('quiet', args.quiet))\n",
    "    print('{}: {}'.format('yes', args.yes))\n",
    "    print('{}: {}'.format('git', args.git))\n",
    "    print('{}: {}'.format('config', args.config))    "
   ]
  },
  {
   "cell_type": "code",
   "execution_count": 42,
   "metadata": {},
   "outputs": [
    {
     "name": "stdout",
     "output_type": "stream",
     "text": [
      "en: True\n",
      "pt: False\n",
      "language: en\n",
      "path: /home/adrianohrl/Projects/Python/midwife/notebooks\n",
      "name: None\n",
      "verbose: False\n",
      "quiet: False\n",
      "yes: False\n",
      "git: None\n",
      "config: None\n"
     ]
    }
   ],
   "source": [
    "command = 'midwife --en'.split()\n",
    "args = parser.parse_args(command[1:])\n",
    "show(args)"
   ]
  },
  {
   "cell_type": "code",
   "execution_count": 34,
   "metadata": {},
   "outputs": [
    {
     "name": "stdout",
     "output_type": "stream",
     "text": [
      "Namespace(config=None, en=True, git=None, language='en', name=None, path='/home/adrianohrl/Projects/Python/midwife/notebooks', pt=False, quiet=False, verbose=False, yes=False)\n"
     ]
    }
   ],
   "source": [
    "%run ./argparser.py --en"
   ]
  },
  {
   "cell_type": "code",
   "execution_count": null,
   "metadata": {},
   "outputs": [],
   "source": []
  }
 ],
 "metadata": {
  "kernelspec": {
   "display_name": "Python 3",
   "language": "python",
   "name": "python3"
  },
  "language_info": {
   "codemirror_mode": {
    "name": "ipython",
    "version": 3
   },
   "file_extension": ".py",
   "mimetype": "text/x-python",
   "name": "python",
   "nbconvert_exporter": "python",
   "pygments_lexer": "ipython3",
   "version": "3.6.6"
  }
 },
 "nbformat": 4,
 "nbformat_minor": 2
}
