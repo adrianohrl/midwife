{
 "cells": [
  {
   "cell_type": "markdown",
   "metadata": {},
   "source": [
    "# Setup"
   ]
  },
  {
   "cell_type": "code",
   "execution_count": 11,
   "metadata": {},
   "outputs": [
    {
     "name": "stdout",
     "output_type": "stream",
     "text": [
      "/home/adrianohrl/Projects/Python/project_maker/notebooks\n",
      "--2019-02-19 23:51:53--  https://raw.githubusercontent.com/github/gitignore/master/Python.gitignore\n",
      "Resolving raw.githubusercontent.com (raw.githubusercontent.com)... 151.101.64.133, 151.101.0.133, 151.101.192.133, ...\n",
      "Connecting to raw.githubusercontent.com (raw.githubusercontent.com)|151.101.64.133|:443... connected.\n",
      "HTTP request sent, awaiting response... 200 OK\n",
      "Length: 1347 (1.3K) [text/plain]\n",
      "Saving to: ‘../templates/python.gitignore’\n",
      "\n",
      "../templates/python 100%[===================>]   1.32K  --.-KB/s    in 0s      \n",
      "\n",
      "2019-02-19 23:51:53 (72.5 MB/s) - ‘../templates/python.gitignore’ saved [1347/1347]\n",
      "\n"
     ]
    }
   ],
   "source": [
    "!pwd\n",
    "!wget https://raw.githubusercontent.com/github/gitignore/master/Python.gitignore -O ../templates/python.gitignore\n",
    "!cp ../templates/python.gitignore ../.gitignore"
   ]
  },
  {
   "cell_type": "code",
   "execution_count": 1,
   "metadata": {},
   "outputs": [
    {
     "name": "stdout",
     "output_type": "stream",
     "text": [
      ".   .git\t.ipynb_checkpoints  project_maker  templates\n",
      "..  .gitignore\tnotebooks\t    setup.py\n"
     ]
    }
   ],
   "source": [
    "!ls -a .."
   ]
  },
  {
   "cell_type": "code",
   "execution_count": 2,
   "metadata": {},
   "outputs": [],
   "source": [
    "import os\n",
    "import json\n",
    "import shutil"
   ]
  },
  {
   "cell_type": "code",
   "execution_count": null,
   "metadata": {},
   "outputs": [],
   "source": [
    "class Project(object):\n",
    "    \n",
    "    filename = '../templates/params.json'\n",
    "    \n",
    "    def __init__(self, name):\n",
    "        self.name = name\n",
    "        self.params = self.load()\n",
    "        \n",
    "    def generate(self):\n",
    "        pass\n",
    "    \n",
    "    def load(self):\n",
    "        with open(Project.filename, 'r') as f:\n",
    "            return json.load(f)\n",
    "    \n",
    "    def save(self):\n",
    "        with open(Project.filename, 'w') as f:\n",
    "            json.dump(self.params, f)"
   ]
  },
  {
   "cell_type": "code",
   "execution_count": 23,
   "metadata": {},
   "outputs": [],
   "source": [
    "params = {\n",
    "    'directories': [\n",
    "        '{project_name}',\n",
    "        '{project_name}/annotations/',\n",
    "        '{project_name}/data/external/',\n",
    "        '{project_name}/data/interim/',\n",
    "        '{project_name}/data/processed/',\n",
    "        '{project_name}/data/raw/',\n",
    "        '{project_name}/docs/',\n",
    "        '{project_name}/models/',\n",
    "        '{project_name}/notebooks/',\n",
    "        '{project_name}/{project_name}/',\n",
    "        '{project_name}/{project_name}/data/',\n",
    "        '{project_name}/{project_name}/features/',\n",
    "        '{project_name}/{project_name}/models/',\n",
    "        '{project_name}/{project_name}/eval/',\n",
    "    ],\n",
    "    'files': {\n",
    "        'gitignore': '{project_name}/.gitignore',\n",
    "        'requirements': '{project_name}/requirements.txt',\n",
    "        'makefile': '{project_name}/Makefile',\n",
    "        'setup': '{project_name}/setup.py',\n",
    "        'readme': '{project_name}/README.md',\n",
    "        'init': '{project_name}/{project_name}/__init__.py',\n",
    "        'others': [\n",
    "            '{project_name}/{project_name}/data/make_dataset.py',\n",
    "            '{project_name}/{project_name}/features/build_features.py',\n",
    "            '{project_name}/{project_name}/models/predict_model.py',\n",
    "            '{project_name}/{project_name}/models/train_model.py',\n",
    "            '{project_name}/{project_name}/eval/visualize.py',\n",
    "        ],\n",
    "    },\n",
    "    'gitignore': [\n",
    "        'annotations/',\n",
    "        'models/',\n",
    "        'data/',\n",
    "    ],\n",
    "}\n",
    "filename = '../templates/params.json'\n",
    "with open(filename, 'w') as f:\n",
    "    json.dump(params, f)"
   ]
  },
  {
   "cell_type": "code",
   "execution_count": 34,
   "metadata": {},
   "outputs": [
    {
     "name": "stdout",
     "output_type": "stream",
     "text": [
      "{'directories': ['{example}', '{example}/annotations/', '{example}/data/external/', '{example}/data/interim/', '{example}/data/processed/', '{example}/data/raw/', '{example}/docs/', '{example}/models/', '{example}/notebooks/', '{example}/{example}/', '{example}/{example}/data/', '{example}/{example}/features/', '{example}/{example}/models/', '{example}/{example}/eval/'], 'files': {'gitignore': '{example}/.gitignore', 'requirements': '{example}/requirements.txt', 'makefile': '{example}/Makefile', 'setup': '{example}/setup.py', 'readme': '{example}/README.md', 'init': '{example}/{example}/__init__.py', 'others': ['{example}/{example}/data/make_dataset.py', '{example}/{example}/features/build_features.py', '{example}/{example}/models/predict_model.py', '{example}/{example}/models/train_model.py', '{example}/{example}/eval/visualize.py']}, 'gitignore': ['annotations/', 'models/', 'data/']}\n"
     ]
    }
   ],
   "source": [
    "filename = '../templates/params.json'\n",
    "name = 'example'\n",
    "path = '..'\n",
    "with open(filename, 'r') as f:    \n",
    "    params = f.read()\n",
    "    params = json.loads(params.replace('project_name', name))\n",
    "print(params)"
   ]
  },
  {
   "cell_type": "markdown",
   "metadata": {},
   "source": [
    "# Creating project directories"
   ]
  },
  {
   "cell_type": "code",
   "execution_count": 18,
   "metadata": {},
   "outputs": [],
   "source": [
    "def generate_root(path, name):\n",
    "    for directory in params['directories']:\n",
    "        os.makedirs(os.path.join(path, directory.format(project_name = name)))"
   ]
  },
  {
   "cell_type": "code",
   "execution_count": 19,
   "metadata": {},
   "outputs": [],
   "source": [
    "generate_root(path, name)"
   ]
  },
  {
   "cell_type": "markdown",
   "metadata": {},
   "source": [
    "# Creating the `.gitignore` file of the project"
   ]
  },
  {
   "cell_type": "code",
   "execution_count": 20,
   "metadata": {},
   "outputs": [],
   "source": [
    "def generate_gitignore(path):\n",
    "    filename = os.path.join(path, '.gitignore')\n",
    "    shutil.copy2(params['git_ignore_filename'], filename)\n",
    "    with open(filename, 'a') as f:\n",
    "        f.write('\\n\\n## Data Science')\n",
    "        for ignore in params['git_ignore']:\n",
    "            f.write('\\n' + ignore)"
   ]
  },
  {
   "cell_type": "code",
   "execution_count": 21,
   "metadata": {},
   "outputs": [
    {
     "ename": "KeyError",
     "evalue": "'git_ignore_filename'",
     "output_type": "error",
     "traceback": [
      "\u001b[0;31m---------------------------------------------------------------------------\u001b[0m",
      "\u001b[0;31mKeyError\u001b[0m                                  Traceback (most recent call last)",
      "\u001b[0;32m<ipython-input-21-e826cfc75eaa>\u001b[0m in \u001b[0;36m<module>\u001b[0;34m\u001b[0m\n\u001b[0;32m----> 1\u001b[0;31m \u001b[0mgenerate_gitignore\u001b[0m\u001b[0;34m(\u001b[0m\u001b[0mpath\u001b[0m\u001b[0;34m)\u001b[0m\u001b[0;34m\u001b[0m\u001b[0m\n\u001b[0m",
      "\u001b[0;32m<ipython-input-20-f322ef382513>\u001b[0m in \u001b[0;36mgenerate_gitignore\u001b[0;34m(path)\u001b[0m\n\u001b[1;32m      1\u001b[0m \u001b[0;32mdef\u001b[0m \u001b[0mgenerate_gitignore\u001b[0m\u001b[0;34m(\u001b[0m\u001b[0mpath\u001b[0m\u001b[0;34m)\u001b[0m\u001b[0;34m:\u001b[0m\u001b[0;34m\u001b[0m\u001b[0m\n\u001b[1;32m      2\u001b[0m     \u001b[0mfilename\u001b[0m \u001b[0;34m=\u001b[0m \u001b[0mos\u001b[0m\u001b[0;34m.\u001b[0m\u001b[0mpath\u001b[0m\u001b[0;34m.\u001b[0m\u001b[0mjoin\u001b[0m\u001b[0;34m(\u001b[0m\u001b[0mpath\u001b[0m\u001b[0;34m,\u001b[0m \u001b[0;34m'.gitignore'\u001b[0m\u001b[0;34m)\u001b[0m\u001b[0;34m\u001b[0m\u001b[0m\n\u001b[0;32m----> 3\u001b[0;31m     \u001b[0mshutil\u001b[0m\u001b[0;34m.\u001b[0m\u001b[0mcopy2\u001b[0m\u001b[0;34m(\u001b[0m\u001b[0mparams\u001b[0m\u001b[0;34m[\u001b[0m\u001b[0;34m'git_ignore_filename'\u001b[0m\u001b[0;34m]\u001b[0m\u001b[0;34m,\u001b[0m \u001b[0mfilename\u001b[0m\u001b[0;34m)\u001b[0m\u001b[0;34m\u001b[0m\u001b[0m\n\u001b[0m\u001b[1;32m      4\u001b[0m     \u001b[0;32mwith\u001b[0m \u001b[0mopen\u001b[0m\u001b[0;34m(\u001b[0m\u001b[0mfilename\u001b[0m\u001b[0;34m,\u001b[0m \u001b[0;34m'a'\u001b[0m\u001b[0;34m)\u001b[0m \u001b[0;32mas\u001b[0m \u001b[0mf\u001b[0m\u001b[0;34m:\u001b[0m\u001b[0;34m\u001b[0m\u001b[0m\n\u001b[1;32m      5\u001b[0m         \u001b[0mf\u001b[0m\u001b[0;34m.\u001b[0m\u001b[0mwrite\u001b[0m\u001b[0;34m(\u001b[0m\u001b[0;34m'\\n\\n## Data Science'\u001b[0m\u001b[0;34m)\u001b[0m\u001b[0;34m\u001b[0m\u001b[0m\n",
      "\u001b[0;31mKeyError\u001b[0m: 'git_ignore_filename'"
     ]
    }
   ],
   "source": [
    "generate_gitignore(path)"
   ]
  },
  {
   "cell_type": "markdown",
   "metadata": {},
   "source": [
    "# Creating the `setup.py` file of the project"
   ]
  },
  {
   "cell_type": "code",
   "execution_count": null,
   "metadata": {},
   "outputs": [],
   "source": []
  },
  {
   "cell_type": "markdown",
   "metadata": {},
   "source": [
    "# Creating the `requeriments.txt` file of the project"
   ]
  },
  {
   "cell_type": "code",
   "execution_count": null,
   "metadata": {},
   "outputs": [],
   "source": []
  },
  {
   "cell_type": "markdown",
   "metadata": {},
   "source": [
    "# Creating the MakeFile file of the project"
   ]
  },
  {
   "cell_type": "code",
   "execution_count": null,
   "metadata": {},
   "outputs": [],
   "source": []
  },
  {
   "cell_type": "markdown",
   "metadata": {},
   "source": [
    "# Defining the `Project` class"
   ]
  },
  {
   "cell_type": "code",
   "execution_count": 4,
   "metadata": {},
   "outputs": [],
   "source": []
  },
  {
   "cell_type": "markdown",
   "metadata": {},
   "source": [
    "# An example project generation"
   ]
  },
  {
   "cell_type": "code",
   "execution_count": 5,
   "metadata": {},
   "outputs": [],
   "source": [
    "project = Project('example')"
   ]
  },
  {
   "cell_type": "markdown",
   "metadata": {},
   "source": [
    "# Automating the project structure generation"
   ]
  },
  {
   "cell_type": "code",
   "execution_count": null,
   "metadata": {},
   "outputs": [],
   "source": [
    "defaults = {\n",
    "    'parent': '.'\n",
    "}"
   ]
  }
 ],
 "metadata": {
  "kernelspec": {
   "display_name": "Python 3",
   "language": "python",
   "name": "python3"
  },
  "language_info": {
   "codemirror_mode": {
    "name": "ipython",
    "version": 3
   },
   "file_extension": ".py",
   "mimetype": "text/x-python",
   "name": "python",
   "nbconvert_exporter": "python",
   "pygments_lexer": "ipython3",
   "version": "3.6.6"
  }
 },
 "nbformat": 4,
 "nbformat_minor": 2
}
