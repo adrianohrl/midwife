{
 "cells": [
  {
   "cell_type": "code",
   "execution_count": null,
   "metadata": {},
   "outputs": [],
   "source": [
    "!pip install GitPython"
   ]
  },
  {
   "cell_type": "code",
   "execution_count": 1,
   "metadata": {},
   "outputs": [],
   "source": [
    "%load_ext watermark\n",
    "%load_ext autoreload\n",
    "%autoreload 2"
   ]
  },
  {
   "cell_type": "code",
   "execution_count": 4,
   "metadata": {},
   "outputs": [
    {
     "name": "stdout",
     "output_type": "stream",
     "text": [
      "Adriano Henrique Rossette Leite 2019-02-27 22:38:13 \n",
      "\n",
      "CPython 3.6.6\n",
      "IPython 7.1.1\n",
      "\n",
      "os unknown\n",
      "git 2.1.11\n"
     ]
    }
   ],
   "source": [
    "import os\n",
    "from git import Repo\n",
    "\n",
    "%watermark -d -t -v -a \"Adriano Henrique Rossette Leite\" -p os,git"
   ]
  },
  {
   "cell_type": "code",
   "execution_count": 6,
   "metadata": {},
   "outputs": [],
   "source": [
    "rorepo = os.path.expanduser('~/Projects/Python/midwife')\n",
    "repo = Repo(rorepo)"
   ]
  },
  {
   "cell_type": "code",
   "execution_count": null,
   "metadata": {},
   "outputs": [],
   "source": [
    "name = 'example'\n",
    "root = os.path.join(os.path.expanduser('~/Projects/Python'), name)\n",
    "if os.exists(root):\n",
    "    os.mkdir(root)\n",
    "    repo = Repo(root)\n",
    "else:\n",
    "    repo = Repo(root)"
   ]
  }
 ],
 "metadata": {
  "kernelspec": {
   "display_name": "Python 3",
   "language": "python",
   "name": "python3"
  },
  "language_info": {
   "codemirror_mode": {
    "name": "ipython",
    "version": 3
   },
   "file_extension": ".py",
   "mimetype": "text/x-python",
   "name": "python",
   "nbconvert_exporter": "python",
   "pygments_lexer": "ipython3",
   "version": "3.6.6"
  }
 },
 "nbformat": 4,
 "nbformat_minor": 2
}
